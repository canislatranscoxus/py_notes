{
 "cells": [
  {
   "cell_type": "markdown",
   "metadata": {},
   "source": [
    "![Python Logo](http://spark-mooc.github.io/web-assets/images/python-logo-master-v3-TM-flattened_small.png)\n",
    "# Python notes 2 - lambda and collections\n"
   ]
  },
  {
   "cell_type": "markdown",
   "metadata": {},
   "source": [
    "this document is a kind of cook notebook with receipts to help you code faster.\n",
    "enjoy it \n",
    ":)"
   ]
  },
  {
   "cell_type": "markdown",
   "metadata": {},
   "source": [
    "## Table of Content\n",
    "\n",
    "\n",
    "* [lambda](#lambda)\n",
    "* [map](#map)\n",
    "* [tuples](#tuples)\n",
    "* [array_and_list](#array_and_list)\n",
    "* [shuffle](#shuffle)\n",
    "* [sort](#sort)\n",
    "* [numpy_arrays](#numpy_arrays)\n",
    "* [dictionaries](#dictionaries)\n",
    "* [hash_table](#hash_table)\n",
    "* [collections](#collections)"
   ]
  },
  {
   "cell_type": "code",
   "execution_count": 1,
   "metadata": {},
   "outputs": [
    {
     "name": "stdout",
     "output_type": "stream",
     "text": [
      "10\n",
      "9\n",
      "8\n",
      "7\n",
      "6\n",
      "5\n",
      "4\n",
      "3\n",
      "2\n",
      "1\n"
     ]
    }
   ],
   "source": [
    "for i in range( 10, 0, -1):\n",
    "    print( i )\n"
   ]
  },
  {
   "cell_type": "code",
   "execution_count": 2,
   "metadata": {},
   "outputs": [
    {
     "name": "stdout",
     "output_type": "stream",
     "text": [
      "List: []\n"
     ]
    }
   ],
   "source": [
    "# Defining a list\n",
    "list = [{1, 2}, ('a'), ['1.1', '2.2']]\n",
    "print('full List:', list)\n",
    "\n",
    "# clearing the list\n",
    "list.clear()\n",
    "\n",
    "print('List:', list)"
   ]
  },
  {
   "cell_type": "markdown",
   "metadata": {},
   "source": [
    "<a id = 'lambda'> </a>"
   ]
  },
  {
   "cell_type": "markdown",
   "metadata": {},
   "source": [
    "### Lambda functions"
   ]
  },
  {
   "cell_type": "markdown",
   "metadata": {},
   "source": [
    "<a id = 'map'> </a>"
   ]
  },
  {
   "cell_type": "markdown",
   "metadata": {},
   "source": [
    "### map"
   ]
  },
  {
   "cell_type": "code",
   "execution_count": 1,
   "metadata": {},
   "outputs": [
    {
     "name": "stdout",
     "output_type": "stream",
     "text": [
      "41\n",
      "45\n"
     ]
    }
   ],
   "source": [
    "def make_incrementor(n):\n",
    "    return lambda x: x + n\n",
    "\n",
    "\n",
    "f = make_incrementor( 40 )\n",
    "print( f(1) )\n",
    "print( f(5) )"
   ]
  },
  {
   "cell_type": "code",
   "execution_count": 2,
   "metadata": {},
   "outputs": [
    {
     "data": {
      "text/plain": [
       "[1, 4, 9, 16, 25]"
      ]
     },
     "execution_count": 2,
     "metadata": {},
     "output_type": "execute_result"
    }
   ],
   "source": [
    "# no lambda\n",
    "items = [1, 2, 3, 4, 5]\n",
    "squared = []\n",
    "for x in items:\n",
    "    squared.append(x ** 2)\n",
    "\n",
    "squared    "
   ]
  },
  {
   "cell_type": "code",
   "execution_count": 12,
   "metadata": {},
   "outputs": [
    {
     "name": "stdout",
     "output_type": "stream",
     "text": [
      "[1, 4, 9, 16, 25]\n"
     ]
    }
   ],
   "source": [
    "items = [1, 2, 3, 4, 5]\n",
    "\n",
    "def sqr(x): return x ** 2\n",
    "\n",
    "#list( map( sqr, items ) )\n",
    "print( map( sqr, items ) )"
   ]
  },
  {
   "cell_type": "code",
   "execution_count": 13,
   "metadata": {},
   "outputs": [
    {
     "data": {
      "text/plain": [
       "[1, 4, 9, 16, 25]"
      ]
     },
     "execution_count": 13,
     "metadata": {},
     "output_type": "execute_result"
    }
   ],
   "source": [
    "squared2 = map( lambda x: x ** 2, items )\n",
    "squared2"
   ]
  },
  {
   "cell_type": "code",
   "execution_count": 17,
   "metadata": {},
   "outputs": [
    {
     "name": "stdout",
     "output_type": "stream",
     "text": [
      "[(1, 'cuadrado:1'), (2, 'cuadrado:4'), (3, 'cuadrado:9'), (4, 'cuadrado:16'), (5, 'cuadrado:25')]\n"
     ]
    }
   ],
   "source": [
    "items = [1, 2, 3, 4, 5]\n",
    "squared3 = map( lambda x: ( x, 'cuadrado:' + str( x ** 2 )), items )\n",
    "squared3 "
   ]
  },
  {
   "cell_type": "code",
   "execution_count": null,
   "metadata": {
    "collapsed": true
   },
   "outputs": [],
   "source": [
    "cajas_ejercicio es:\n",
    "\n",
    "    imprimir las cajas que tengan un area menor que max_area.\n",
    "    \n",
    "input:\n",
    "    una lista de 2 puntos \n",
    "    [\n",
    "    (x1,y1, x2,y2 ),\n",
    "    (x1,y1, x2,y2 ),\n",
    "    (x1,y1, x2,y2 )\n",
    "    ]\n",
    "\n",
    "y max_area, que es la  maxima area deseada.  \n",
    "    \n",
    "output es:\n",
    "    una lista que tenga las cajas chicas.\n",
    "\n"
   ]
  },
  {
   "cell_type": "markdown",
   "metadata": {},
   "source": [
    "#### create a list of alphabet letters"
   ]
  },
  {
   "cell_type": "code",
   "execution_count": 6,
   "metadata": {},
   "outputs": [
    {
     "name": "stdout",
     "output_type": "stream",
     "text": [
      "<map object at 0x0000023889EB2BA8>\n",
      "a\n",
      "b\n",
      "c\n",
      "d\n",
      "e\n",
      "f\n",
      "g\n",
      "h\n",
      "i\n",
      "j\n",
      "k\n",
      "l\n",
      "m\n",
      "n\n",
      "o\n",
      "p\n",
      "q\n",
      "r\n",
      "s\n",
      "t\n",
      "u\n",
      "v\n",
      "w\n",
      "x\n",
      "y\n",
      "z\n"
     ]
    }
   ],
   "source": [
    "data    =  map( chr, range(97, 123) )\n",
    "print( data )\n",
    "for i in data: print( i )"
   ]
  },
  {
   "cell_type": "markdown",
   "metadata": {},
   "source": [
    "#### create bigrams with alphabet letters"
   ]
  },
  {
   "cell_type": "code",
   "execution_count": 17,
   "metadata": {},
   "outputs": [
    {
     "name": "stdout",
     "output_type": "stream",
     "text": [
      "('A', 'B')\n",
      "('B', 'C')\n",
      "('C', 'D')\n",
      "('D', 'E')\n",
      "('E', 'F')\n",
      "('F', 'G')\n",
      "('G', 'H')\n",
      "('H', 'I')\n",
      "('I', 'J')\n",
      "('J', 'K')\n",
      "('K', 'L')\n",
      "('L', 'M')\n",
      "('M', 'N')\n",
      "('N', 'O')\n",
      "('O', 'P')\n",
      "('P', 'Q')\n",
      "('Q', 'R')\n",
      "('R', 'S')\n",
      "('S', 'T')\n",
      "('T', 'U')\n",
      "('U', 'V')\n",
      "('V', 'W')\n",
      "('W', 'X')\n",
      "('X', 'Y')\n",
      "('Y', 'Z')\n"
     ]
    }
   ],
   "source": [
    "# create an array of letters\n",
    "a =list( map( chr, range(65, 91) ) )\n",
    "#for i in alphabeth: print( i)\n",
    "\n",
    "bigrams = [ ( a[i], a[i + 1] ) for i in range( 0, len( a ) - 1 ) ]\n",
    "for i in bigrams: print( i )"
   ]
  },
  {
   "cell_type": "markdown",
   "metadata": {},
   "source": [
    "#### filter"
   ]
  },
  {
   "cell_type": "code",
   "execution_count": 5,
   "metadata": {},
   "outputs": [
    {
     "name": "stdout",
     "output_type": "stream",
     "text": [
      "[4, 5]\n"
     ]
    }
   ],
   "source": [
    "data = [ 1, 2, 3, 4, 5]\n",
    "a = filter( (lambda x: x > 3) , data )\n",
    "print( list( a ) )"
   ]
  },
  {
   "cell_type": "code",
   "execution_count": 6,
   "metadata": {},
   "outputs": [
    {
     "data": {
      "text/plain": [
       "[-5, -4, -3, -2, -1]"
      ]
     },
     "execution_count": 6,
     "metadata": {},
     "output_type": "execute_result"
    }
   ],
   "source": [
    "list( filter((lambda x: x < 0), range(-5,5)))"
   ]
  },
  {
   "cell_type": "markdown",
   "metadata": {},
   "source": [
    "#### reduce"
   ]
  },
  {
   "cell_type": "code",
   "execution_count": 7,
   "metadata": {},
   "outputs": [
    {
     "data": {
      "text/plain": [
       "10"
      ]
     },
     "execution_count": 7,
     "metadata": {},
     "output_type": "execute_result"
    }
   ],
   "source": [
    "reduce( (lambda x, y: x + y), [1, 2, 3, 4] )"
   ]
  },
  {
   "cell_type": "markdown",
   "metadata": {},
   "source": [
    "<a id = 'tuples' ></a>"
   ]
  },
  {
   "cell_type": "markdown",
   "metadata": {},
   "source": [
    "## tuples"
   ]
  },
  {
   "cell_type": "code",
   "execution_count": 8,
   "metadata": {},
   "outputs": [
    {
     "name": "stdout",
     "output_type": "stream",
     "text": [
      "fish   : shark\n",
      "bird   : eagle\n",
      "reptile: crocodile\n"
     ]
    }
   ],
   "source": [
    "t = ( 'shark', 'eagle', 'crocodile' )\n",
    "fish, bird, reptile = t\n",
    "\n",
    "print( 'fish   : {0}'.format( fish    ) )\n",
    "print( 'bird   : {0}'.format( bird    ) )\n",
    "print( 'reptile: {0}'.format( reptile ) )"
   ]
  },
  {
   "cell_type": "markdown",
   "metadata": {},
   "source": [
    "### Arrays"
   ]
  },
  {
   "cell_type": "code",
   "execution_count": 7,
   "metadata": {},
   "outputs": [
    {
     "ename": "TypeError",
     "evalue": "cannot use a str to initialize an array with typecode 'c'",
     "output_type": "error",
     "traceback": [
      "\u001b[1;31m---------------------------------------------------------------------------\u001b[0m",
      "\u001b[1;31mTypeError\u001b[0m                                 Traceback (most recent call last)",
      "\u001b[1;32m<ipython-input-7-ad40947b994e>\u001b[0m in \u001b[0;36m<module>\u001b[1;34m()\u001b[0m\n\u001b[0;32m      2\u001b[0m \u001b[1;33m\u001b[0m\u001b[0m\n\u001b[0;32m      3\u001b[0m \u001b[0mv\u001b[0m \u001b[1;33m=\u001b[0m \u001b[0marray\u001b[0m\u001b[1;33m(\u001b[0m\u001b[1;34m'l'\u001b[0m\u001b[1;33m)\u001b[0m\u001b[1;33m\u001b[0m\u001b[0m\n\u001b[1;32m----> 4\u001b[1;33m \u001b[0mc\u001b[0m \u001b[1;33m=\u001b[0m \u001b[0marray\u001b[0m\u001b[1;33m(\u001b[0m\u001b[1;34m'c'\u001b[0m\u001b[1;33m,\u001b[0m \u001b[1;34m'hello world'\u001b[0m   \u001b[1;33m)\u001b[0m\u001b[1;33m\u001b[0m\u001b[0m\n\u001b[0m\u001b[0;32m      5\u001b[0m \u001b[0mu\u001b[0m \u001b[1;33m=\u001b[0m \u001b[0marray\u001b[0m\u001b[1;33m(\u001b[0m\u001b[1;34m'u'\u001b[0m\u001b[1;33m,\u001b[0m \u001b[1;34mu'hello \\u2641'\u001b[0m \u001b[1;33m)\u001b[0m\u001b[1;33m\u001b[0m\u001b[0m\n\u001b[0;32m      6\u001b[0m \u001b[0ml\u001b[0m \u001b[1;33m=\u001b[0m \u001b[0marray\u001b[0m\u001b[1;33m(\u001b[0m\u001b[1;34m'l'\u001b[0m\u001b[1;33m,\u001b[0m \u001b[1;33m[\u001b[0m\u001b[1;36m1\u001b[0m\u001b[1;33m,\u001b[0m \u001b[1;36m2\u001b[0m\u001b[1;33m,\u001b[0m \u001b[1;36m3\u001b[0m\u001b[1;33m,\u001b[0m \u001b[1;36m4\u001b[0m\u001b[1;33m,\u001b[0m \u001b[1;36m5\u001b[0m\u001b[1;33m]\u001b[0m \u001b[1;33m)\u001b[0m\u001b[1;33m\u001b[0m\u001b[0m\n",
      "\u001b[1;31mTypeError\u001b[0m: cannot use a str to initialize an array with typecode 'c'"
     ]
    }
   ],
   "source": [
    "from array import *\n",
    "\n",
    "v = array('l') \n",
    "c = array('c', 'hello world'   )   \n",
    "u = array('u', u'hello \\u2641' ) \n",
    "l = array('l', [1, 2, 3, 4, 5] ) \n",
    "d = array('d', [1.0, 2.0, 3.14])\n",
    "\n",
    "for i in d: print( i )"
   ]
  },
  {
   "cell_type": "markdown",
   "metadata": {},
   "source": [
    "### append element at the end"
   ]
  },
  {
   "cell_type": "code",
   "execution_count": 36,
   "metadata": {},
   "outputs": [
    {
     "data": {
      "text/plain": [
       "array('d', [1.0, 2.0, 3.14, 4.16])"
      ]
     },
     "execution_count": 36,
     "metadata": {},
     "output_type": "execute_result"
    }
   ],
   "source": [
    "d.append( 4.16 )\n",
    "d"
   ]
  },
  {
   "cell_type": "markdown",
   "metadata": {},
   "source": [
    "#### insert element in any location"
   ]
  },
  {
   "cell_type": "code",
   "execution_count": 37,
   "metadata": {},
   "outputs": [
    {
     "name": "stdout",
     "output_type": "stream",
     "text": [
      "array('d', [0.0, 1.0, 2.0, 3.14, 4.16])\n",
      "array('d', [0.0, 1.0, -13.0, 2.0, 3.14, 4.16])\n"
     ]
    }
   ],
   "source": [
    "#insert en position 0\n",
    "d.insert( 0, 0 )\n",
    "print( d )\n",
    "\n",
    "#insert en position 2\n",
    "d.insert( 2, -13 )\n",
    "print( d )"
   ]
  },
  {
   "cell_type": "markdown",
   "metadata": {},
   "source": [
    "#### removes the item in position "
   ]
  },
  {
   "cell_type": "code",
   "execution_count": 38,
   "metadata": {},
   "outputs": [
    {
     "name": "stdout",
     "output_type": "stream",
     "text": [
      "2.0\n",
      "array('d', [0.0, 1.0, -13.0, 3.14, 4.16])\n"
     ]
    }
   ],
   "source": [
    "x = d.pop( 3 )\n",
    "print x\n",
    "print d"
   ]
  },
  {
   "cell_type": "code",
   "execution_count": null,
   "metadata": {
    "collapsed": true
   },
   "outputs": [],
   "source": []
  },
  {
   "cell_type": "markdown",
   "metadata": {},
   "source": [
    "<a id = 'array_and_list' ></a>"
   ]
  },
  {
   "cell_type": "markdown",
   "metadata": {},
   "source": [
    "# list"
   ]
  },
  {
   "cell_type": "markdown",
   "metadata": {},
   "source": [
    "create empty list"
   ]
  },
  {
   "cell_type": "code",
   "execution_count": 2,
   "metadata": {},
   "outputs": [
    {
     "name": "stdout",
     "output_type": "stream",
     "text": [
      "[]\n"
     ]
    }
   ],
   "source": [
    "a = []\n",
    "print ( a )"
   ]
  },
  {
   "cell_type": "markdown",
   "metadata": {},
   "source": [
    "create list"
   ]
  },
  {
   "cell_type": "markdown",
   "metadata": {},
   "source": [
    "#### slicing"
   ]
  },
  {
   "cell_type": "code",
   "execution_count": 19,
   "metadata": {},
   "outputs": [
    {
     "name": "stdout",
     "output_type": "stream",
     "text": [
      "row    0 : [0, 1, 2, 3, 4, 5]\n"
     ]
    }
   ],
   "source": [
    "m = [ [ 0,   1,  2,  3,  4,  5 ],\n",
    "      [ 6,   7,  8,  9, 10, 11 ],\n",
    "      [ 12, 13, 14, 15, 16, 17 ]\n",
    "    ]\n",
    "     \n",
    "print (  'row    0 : {0}'.format( m[ 0 ] ) )\n",
    "#print (  'row 1 : {0}'.format( m[ 1, : ] ) )\n",
    "#print (  'col 1 : {0}'.format( m[ :, 1 ] ) )\n",
    "#print (  'col row : {0}'.format( m[ 3 , 1 ] ) )"
   ]
  },
  {
   "cell_type": "code",
   "execution_count": 10,
   "metadata": {},
   "outputs": [],
   "source": [
    "a = [ 0, 1, 2, 3, 4, 5 ]"
   ]
  },
  {
   "cell_type": "markdown",
   "metadata": {},
   "source": [
    "#### convert list to string"
   ]
  },
  {
   "cell_type": "code",
   "execution_count": 13,
   "metadata": {},
   "outputs": [
    {
     "data": {
      "text/plain": [
       "'Riahanna,Cherry,Katy,Adel,Daisy,Barbara'"
      ]
     },
     "execution_count": 13,
     "metadata": {},
     "output_type": "execute_result"
    }
   ],
   "source": [
    "a = [ 'Riahanna', 'Cherry', 'Katy', 'Adel', 'Daisy', 'Barbara' ]\n",
    "s = ','.join( a )\n",
    "s"
   ]
  },
  {
   "cell_type": "markdown",
   "metadata": {},
   "source": [
    "create list of integers from 0 to 9"
   ]
  },
  {
   "cell_type": "code",
   "execution_count": 21,
   "metadata": {
    "scrolled": false
   },
   "outputs": [
    {
     "name": "stdout",
     "output_type": "stream",
     "text": [
      "b: range(0, 5)\n"
     ]
    },
    {
     "ename": "TypeError",
     "evalue": "unsupported operand type(s) for +: 'range' and 'list'",
     "output_type": "error",
     "traceback": [
      "\u001b[1;31m---------------------------------------------------------------------------\u001b[0m",
      "\u001b[1;31mTypeError\u001b[0m                                 Traceback (most recent call last)",
      "\u001b[1;32m<ipython-input-21-306eb1b98f70>\u001b[0m in \u001b[0;36m<module>\u001b[1;34m()\u001b[0m\n\u001b[0;32m      2\u001b[0m \u001b[0mprint\u001b[0m\u001b[1;33m(\u001b[0m \u001b[1;34m'b: {0}'\u001b[0m\u001b[1;33m.\u001b[0m\u001b[0mformat\u001b[0m\u001b[1;33m(\u001b[0m \u001b[0mb\u001b[0m \u001b[1;33m)\u001b[0m  \u001b[1;33m)\u001b[0m\u001b[1;33m\u001b[0m\u001b[0m\n\u001b[0;32m      3\u001b[0m \u001b[1;33m\u001b[0m\u001b[0m\n\u001b[1;32m----> 4\u001b[1;33m \u001b[0mprint\u001b[0m\u001b[1;33m(\u001b[0m \u001b[0mb\u001b[0m \u001b[1;33m+\u001b[0m \u001b[1;33m[\u001b[0m \u001b[1;36m5\u001b[0m\u001b[1;33m,\u001b[0m \u001b[1;36m6\u001b[0m\u001b[1;33m,\u001b[0m \u001b[1;34m'hola'\u001b[0m\u001b[1;33m,\u001b[0m \u001b[1;36m7\u001b[0m \u001b[1;33m]\u001b[0m \u001b[1;33m)\u001b[0m\u001b[1;33m\u001b[0m\u001b[0m\n\u001b[0m",
      "\u001b[1;31mTypeError\u001b[0m: unsupported operand type(s) for +: 'range' and 'list'"
     ]
    }
   ],
   "source": [
    "b = range(0, 5)\n",
    "print( 'b: {0}'.format( b )  )\n",
    "\n",
    "print( b + [ 5, 6, 'hola', 7 ] )"
   ]
  },
  {
   "cell_type": "markdown",
   "metadata": {},
   "source": [
    "get size of list or any object"
   ]
  },
  {
   "cell_type": "code",
   "execution_count": 22,
   "metadata": {},
   "outputs": [
    {
     "name": "stdout",
     "output_type": "stream",
     "text": [
      "16\n",
      "a   : [1, 2, 3, 4, 5]\n",
      "size: 5\n"
     ]
    }
   ],
   "source": [
    "a = [ 1, 2, 3, 4, 5 ]\n",
    "s = 'hello wild world'\n",
    "print( len(s) )\n",
    "\n",
    "size = len( a )\n",
    "\n",
    "\n",
    "print ( 'a   : {0}'.format( a    ) )\n",
    "print ( 'size: {0}'.format( size ) )"
   ]
  },
  {
   "cell_type": "markdown",
   "metadata": {},
   "source": [
    "get the first 3 elements from a list"
   ]
  },
  {
   "cell_type": "code",
   "execution_count": 23,
   "metadata": {},
   "outputs": [
    {
     "name": "stdout",
     "output_type": "stream",
     "text": [
      "a   : [1, 2, 3, 4, 5]\n",
      "first 3 elements   : [1, 2, 3]\n",
      "a   : [1, 2, 3, 4, 5]\n"
     ]
    }
   ],
   "source": [
    "a = [ 1, 2, 3, 4, 5 ]\n",
    "\n",
    "\n",
    "print ( 'a   : {0}'.format( a    ) )\n",
    "print ( 'first 3 elements   : {0}'.format( a[ 0:3 ]    ) )\n",
    "print ( 'a   : {0}'.format( a    ) )"
   ]
  },
  {
   "cell_type": "markdown",
   "metadata": {},
   "source": [
    "### create copy of list"
   ]
  },
  {
   "cell_type": "code",
   "execution_count": 24,
   "metadata": {},
   "outputs": [
    {
     "name": "stdout",
     "output_type": "stream",
     "text": [
      "copies: \n",
      "a2: ['Spike_a2', 'shark', 'panter', 'eagle', 'scorpion'] \n",
      "a3: ['Soopy_a3', 'shark', 'panter', 'eagle', 'scorpion'] \n",
      "a4: ['Pongo_a4', 'shark', 'panter', 'eagle', 'scorpion'] \n",
      "a5: ['Astro_a5', 'shark', 'panter', 'eagle', 'scorpion'] \n",
      "\n",
      " original list: n\n",
      "a1: ['dog', 'shark', 'panter', 'eagle', 'scorpion'] \n"
     ]
    }
   ],
   "source": [
    "import copy\n",
    "\n",
    "#original list\n",
    "a1 = [ 'dog', 'shark', 'panter', 'eagle', 'scorpion' ]\n",
    "\n",
    "# create new lists\n",
    "a2 = a1[:]\n",
    "a3 = list( a1 )\n",
    "a4 = copy.copy( a1 )\n",
    "a5 = copy.deepcopy( a1 )\n",
    "\n",
    "a2[ 0 ] = 'Spike_a2'\n",
    "a3[ 0 ] = 'Soopy_a3'\n",
    "a4[ 0 ] = 'Pongo_a4'\n",
    "a5[ 0 ] = 'Astro_a5'\n",
    "\n",
    "print( 'copies: ' )\n",
    "print( 'a2: {0} '.format( a2 ) )\n",
    "print( 'a3: {0} '.format( a3 ) )\n",
    "print( 'a4: {0} '.format( a4 ) )\n",
    "print( 'a5: {0} '.format( a5 ) )\n",
    "\n",
    "print( '\\n original list: n' )\n",
    "print( 'a1: {0} '.format( a1 ) )"
   ]
  },
  {
   "cell_type": "markdown",
   "metadata": {},
   "source": [
    "### create a second variable t the same list"
   ]
  },
  {
   "cell_type": "code",
   "execution_count": 3,
   "metadata": {},
   "outputs": [
    {
     "name": "stdout",
     "output_type": "stream",
     "text": [
      "a1: ['Spike', 'shark', 'panter', 'eagle', 'scorpion'] \n",
      "a2: ['Spike', 'shark', 'panter', 'eagle', 'scorpion'] \n"
     ]
    }
   ],
   "source": [
    "a1 = [ 'dog', 'shark', 'panter', 'eagle', 'scorpion' ]\n",
    "\n",
    "a2 = a1\n",
    "a2[ 0 ] = 'Spike'\n",
    "\n",
    "print( 'a1: {0} '.format( a1 ) )\n",
    "print( 'a2: {0} '.format( a2 ) )"
   ]
  },
  {
   "cell_type": "markdown",
   "metadata": {},
   "source": [
    "#### concatenate two list"
   ]
  },
  {
   "cell_type": "code",
   "execution_count": 1,
   "metadata": {},
   "outputs": [
    {
     "name": "stdout",
     "output_type": "stream",
     "text": [
      "['beethoven', 'mozart', 'bach', 'vivaldi', 'chopin', 'chaikovski']\n"
     ]
    }
   ],
   "source": [
    "a = [ 'beethoven', 'mozart', 'bach' ]\n",
    "b = [ 'vivaldi', 'chopin', 'chaikovski' ]\n",
    "c = a + b\n",
    "print( c )"
   ]
  },
  {
   "cell_type": "markdown",
   "metadata": {},
   "source": [
    "zip - create numerated list of tuples using an existing list of data"
   ]
  },
  {
   "cell_type": "code",
   "execution_count": 15,
   "metadata": {},
   "outputs": [
    {
     "name": "stdout",
     "output_type": "stream",
     "text": [
      "data  : ['dog', 'shark', 'panter', 'eagle', 'scorpion']\n",
      "z1: [(0, 'dog'), (1, 'shark'), (2, 'panter'), (3, 'eagle'), (4, 'scorpion')]\n",
      "z2: [(0, 'dog'), (1, 'shark'), (2, 'panter'), (3, 'eagle'), (4, 'scorpion')]\n",
      "\n",
      " z1\n",
      "(0, 'dog')\n",
      "(1, 'shark')\n",
      "(2, 'panter')\n",
      "(3, 'eagle')\n",
      "(4, 'scorpion')\n",
      "\n",
      " z2\n",
      "(0, 'dog')\n",
      "(1, 'shark')\n",
      "(2, 'panter')\n",
      "(3, 'eagle')\n",
      "(4, 'scorpion')\n"
     ]
    }
   ],
   "source": [
    "data = [ 'dog', 'shark', 'panter', 'eagle', 'scorpion' ]\n",
    "\n",
    "size = len( data ) \n",
    "idx  = range( 0, size)\n",
    "z1   = zip( idx, data )\n",
    "z2   = zip( range( 0, len( data ) ), data )\n",
    "\n",
    "print ( 'data  : {0}'.format( data ) )\n",
    "#print 'idx   : {0}'.format( idx  )\n",
    "print ( 'z1: {0}'.format( z1    ) )\n",
    "print ( 'z2: {0}'.format( z2    ) )\n",
    "\n",
    "print ( '\\n z1' )\n",
    "for i, a in z1:\n",
    "    print( i, a )\n",
    "\n",
    "print ( '\\n z2' )\n",
    "for i, a in z2: print( i, a )\n",
    "\n",
    "    "
   ]
  },
  {
   "cell_type": "markdown",
   "metadata": {},
   "source": [
    "format a string using elements from a list"
   ]
  },
  {
   "cell_type": "code",
   "execution_count": 16,
   "metadata": {},
   "outputs": [
    {
     "name": "stdout",
     "output_type": "stream",
     "text": [
      "one star of the zoo: dog\n",
      "one star of the zoo: shark\n",
      "one star of the zoo: panter\n",
      "one star of the zoo: eagle\n",
      "one star of the zoo: scorpion\n"
     ]
    }
   ],
   "source": [
    "data = [ 'dog', 'shark', 'panter', 'eagle', 'scorpion' ]\n",
    "\n",
    "s = \"one star of the zoo: {animal}\"\n",
    "\n",
    "for a in data:\n",
    "    print ( s.format( animal = a ) )\n"
   ]
  },
  {
   "cell_type": "markdown",
   "metadata": {
    "collapsed": true
   },
   "source": [
    "#### sum elements of a list"
   ]
  },
  {
   "cell_type": "code",
   "execution_count": 34,
   "metadata": {},
   "outputs": [
    {
     "name": "stdout",
     "output_type": "stream",
     "text": [
      "15\n",
      "we don't find  6\n"
     ]
    }
   ],
   "source": [
    "a = [ 1, 2, 3, 4, 5 ]\n",
    "s = sum( a )\n",
    "print( s )\n",
    "\n",
    "if 6 not in a:\n",
    "    print ( \"we don't find  6\" )"
   ]
  },
  {
   "cell_type": "code",
   "execution_count": null,
   "metadata": {
    "collapsed": true
   },
   "outputs": [],
   "source": []
  },
  {
   "cell_type": "markdown",
   "metadata": {},
   "source": [
    "#### append element at the end of the list"
   ]
  },
  {
   "cell_type": "code",
   "execution_count": 29,
   "metadata": {},
   "outputs": [
    {
     "name": "stdout",
     "output_type": "stream",
     "text": [
      "['shark', 'panter', 'eagle', 'scorpion']\n"
     ]
    }
   ],
   "source": [
    "data = [ 'shark', 'panter', 'eagle' ]\n",
    "data.append( 'scorpion' )\n",
    "print( data )"
   ]
  },
  {
   "cell_type": "markdown",
   "metadata": {},
   "source": [
    "#### insert element at first position"
   ]
  },
  {
   "cell_type": "code",
   "execution_count": 32,
   "metadata": {},
   "outputs": [
    {
     "name": "stdout",
     "output_type": "stream",
     "text": [
      "['dog', 'shark', 'panter', 'eagle', 'scorpion']\n"
     ]
    }
   ],
   "source": [
    "data = [  'shark', 'panter', 'eagle', 'scorpion' ]\n",
    "data.insert( 0, 'dog' )\n",
    "print( data )\n"
   ]
  },
  {
   "cell_type": "markdown",
   "metadata": {},
   "source": [
    "#### remove element from list"
   ]
  },
  {
   "cell_type": "code",
   "execution_count": 37,
   "metadata": {},
   "outputs": [
    {
     "name": "stdout",
     "output_type": "stream",
     "text": [
      "['shark', 'panter', 'eagle', 'scorpion']\n",
      "dog\n",
      "['shark', 'panter', 'eagle']\n",
      "scorpion\n",
      "['shark', 'eagle']\n",
      "panter\n"
     ]
    }
   ],
   "source": [
    "a = [ 'dog', 'shark', 'panter', 'eagle', 'scorpion' ]\n",
    "\n",
    "# delete first\n",
    "x = a.pop( 0 )\n",
    "print( a )\n",
    "print( x )\n",
    "\n",
    "# delete last\n",
    "x = a.pop( -1 )\n",
    "print( a )\n",
    "print( x )\n",
    "\n",
    "# delete panter\n",
    "x = a.pop( 1 )\n",
    "print( a )\n",
    "print( x )\n",
    "\n"
   ]
  },
  {
   "cell_type": "code",
   "execution_count": 1,
   "metadata": {},
   "outputs": [
    {
     "name": "stdout",
     "output_type": "stream",
     "text": [
      "['shark', 'panter', 'eagle', 'scorpion']\n"
     ]
    }
   ],
   "source": [
    "a = [ 'dog', 'shark', 'panter', 'eagle', 'scorpion' ]\n",
    "\n",
    "#delete dog\n",
    "del( a[0] )\n",
    "\n",
    "print( a )"
   ]
  },
  {
   "cell_type": "code",
   "execution_count": 2,
   "metadata": {},
   "outputs": [
    {
     "name": "stdout",
     "output_type": "stream",
     "text": [
      "['dog', 'shark', 'scorpion']\n"
     ]
    }
   ],
   "source": [
    "a = [ 'dog', 'shark', 'panter', 'eagle', 'scorpion' ]\n",
    "\n",
    "#delete panter and eagle\n",
    "del( a[ -3: -1 ] )\n",
    "\n",
    "print( a )"
   ]
  },
  {
   "cell_type": "markdown",
   "metadata": {},
   "source": [
    "<a id = 'shuffle' ></a>"
   ]
  },
  {
   "cell_type": "markdown",
   "metadata": {},
   "source": [
    "### shuffle"
   ]
  },
  {
   "cell_type": "code",
   "execution_count": 11,
   "metadata": {},
   "outputs": [
    {
     "name": "stdout",
     "output_type": "stream",
     "text": [
      "original list: [0, 1, 2, 3, 4, 5, 6, 7, 8, 9]\n",
      "shuffled list: [8, 2, 6, 5, 0, 9, 4, 7, 1, 3]\n"
     ]
    }
   ],
   "source": [
    "from random import shuffle\n",
    "x = [ i for i in range(10)]\n",
    "\n",
    "print( 'original list: {0}'.format( x ) )\n",
    "\n",
    "shuffle(x)\n",
    "\n",
    "print( 'shuffled list: {0}'.format( x ) )"
   ]
  },
  {
   "cell_type": "markdown",
   "metadata": {},
   "source": [
    "<a id = 'sort' ></a>"
   ]
  },
  {
   "cell_type": "markdown",
   "metadata": {},
   "source": [
    "# sort "
   ]
  },
  {
   "cell_type": "markdown",
   "metadata": {},
   "source": [
    "some useful links\n",
    "\n",
    "https://docs.python.org/2/library/functions.html#sorted\n",
    "\n",
    "https://wiki.python.org/moin/HowTo/Sorting"
   ]
  },
  {
   "cell_type": "markdown",
   "metadata": {},
   "source": [
    "sort array"
   ]
  },
  {
   "cell_type": "code",
   "execution_count": 18,
   "metadata": {},
   "outputs": [
    {
     "name": "stdout",
     "output_type": "stream",
     "text": [
      "data  : [7, 2, 5, 10, 4, 1, 8, 3, 6]\n",
      "sorted: [1, 2, 3, 4, 5, 6, 7, 8, 10]\n"
     ]
    }
   ],
   "source": [
    "data = [ 7, 2, 5, 10, 4, 1, 8, 3, 6]\n",
    "s    = sorted( data )\n",
    "\n",
    "print ( 'data  : {0}'.format( data ) )\n",
    "print ( 'sorted: {0}'.format( s    ) )"
   ]
  },
  {
   "cell_type": "markdown",
   "metadata": {},
   "source": [
    "### sort in reverse order"
   ]
  },
  {
   "cell_type": "code",
   "execution_count": 19,
   "metadata": {},
   "outputs": [
    {
     "name": "stdout",
     "output_type": "stream",
     "text": [
      "data  : [7, 2, 5, 10, 4, 1, 8, 3, 6]\n",
      "sorted: [10, 8, 7, 6, 5, 4, 3, 2, 1]\n"
     ]
    }
   ],
   "source": [
    "data = [ 7, 2, 5, 10, 4, 1, 8, 3, 6]\n",
    "s    = sorted( data, reverse = True )\n",
    "\n",
    "print ( 'data  : {0}'.format( data ) )\n",
    "print ( 'sorted: {0}'.format( s    ) )"
   ]
  },
  {
   "cell_type": "markdown",
   "metadata": {},
   "source": [
    "### sort array of tuples"
   ]
  },
  {
   "cell_type": "code",
   "execution_count": 8,
   "metadata": {},
   "outputs": [
    {
     "name": "stdout",
     "output_type": "stream",
     "text": [
      "data   : [(1, 'Daisy'), (2, 'Katy'), (3, 'Cherry'), (3, 'Adel'), (3, 'Barbara'), (4, 'Riahanna')]\n",
      "sorted1: [(1, 'Daisy'), (2, 'Katy'), (3, 'Cherry'), (3, 'Adel'), (3, 'Barbara'), (4, 'Riahanna')]\n",
      "sorted2: [(1, 'Daisy'), (2, 'Katy'), (3, 'Cherry'), (3, 'Adel'), (3, 'Barbara'), (4, 'Riahanna')]\n"
     ]
    }
   ],
   "source": [
    "data = [ (4, 'Riahanna'), (3, 'Cherry'), (2, 'Katy'), (3, 'Adel'), (1, 'Daisy'), (3, 'Barbara' ) ]\n",
    "s1   = sorted( data, key = lambda t: t[ 0 ] )\n",
    "\n",
    "s2   = data\n",
    "s2.sort( key = lambda t: t[ 0 ] )\n",
    "\n",
    "print ( 'data   : {0}'.format( data ) )\n",
    "print ( 'sorted1: {0}'.format( s1   ) )\n",
    "print ( 'sorted2: {0}'.format( s2   ) )"
   ]
  },
  {
   "cell_type": "code",
   "execution_count": 9,
   "metadata": {},
   "outputs": [
    {
     "name": "stdout",
     "output_type": "stream",
     "text": [
      "data   : [(1, 'Daisy'), (2, 'Katy'), (3, 'Cherry'), (3, 'Adel'), (3, 'Barbara'), (4, 'Riahanna'), (33, 'Adel')]\n",
      "sorted1: [(3, 'Adel'), (33, 'Adel'), (3, 'Barbara'), (3, 'Cherry'), (1, 'Daisy'), (2, 'Katy'), (4, 'Riahanna')]\n",
      "sorted2: [(1, 'Daisy'), (2, 'Katy'), (3, 'Cherry'), (3, 'Adel'), (3, 'Barbara'), (4, 'Riahanna'), (33, 'Adel')]\n"
     ]
    }
   ],
   "source": [
    "data = [ (4, 'Riahanna'), (3, 'Cherry'), (2, 'Katy'), (33, 'Adel'),(3, 'Adel'), (1, 'Daisy'), (3, 'Barbara' ) ]\n",
    "s1   = sorted( data, key = lambda t: (t[1],t[ 0 ]) )\n",
    "\n",
    "s2   = data\n",
    "s2.sort( key = lambda t: t[ 0 ] )\n",
    "\n",
    "print ( 'data   : {0}'.format( data ) )\n",
    "print ( 'sorted1: {0}'.format( s1   ) )\n",
    "print ( 'sorted2: {0}'.format( s2   ) )"
   ]
  },
  {
   "cell_type": "markdown",
   "metadata": {},
   "source": [
    "#### sort using tuple notation"
   ]
  },
  {
   "cell_type": "code",
   "execution_count": 1,
   "metadata": {},
   "outputs": [
    {
     "ename": "SyntaxError",
     "evalue": "invalid syntax (<ipython-input-1-c38f4ff368b4>, line 2)",
     "output_type": "error",
     "traceback": [
      "\u001b[1;36m  File \u001b[1;32m\"<ipython-input-1-c38f4ff368b4>\"\u001b[1;36m, line \u001b[1;32m2\u001b[0m\n\u001b[1;33m    s1   = sorted( data, key = lambda (num, name) : (-num, name) )\u001b[0m\n\u001b[1;37m                                      ^\u001b[0m\n\u001b[1;31mSyntaxError\u001b[0m\u001b[1;31m:\u001b[0m invalid syntax\n"
     ]
    }
   ],
   "source": [
    "data = [ (4, 'Riahanna'), (3, 'Cherry'), (2, 'Katy'), (3, 'Adel'), (1, 'Daisy'), (3, 'Barbara' ) ]\n",
    "s1   = sorted( data, key = lambda (num, name) : (-num, name) )\n",
    "\n",
    "s2   = data\n",
    "\n",
    "s2.sort( key = lambda (num, name ): (-num, name) )\n",
    "\n",
    "print ( 'data   : {0}'.format( data ) )\n",
    "print ( 'sorted1: {0}'.format( s1   ) )\n",
    "print ( 'sorted2: {0}'.format( s2   ) )"
   ]
  },
  {
   "cell_type": "markdown",
   "metadata": {},
   "source": [
    "#### using arrays and tuple notation"
   ]
  },
  {
   "cell_type": "code",
   "execution_count": 3,
   "metadata": {},
   "outputs": [
    {
     "ename": "SyntaxError",
     "evalue": "invalid syntax (<ipython-input-3-1431cdd90dbd>, line 2)",
     "output_type": "error",
     "traceback": [
      "\u001b[1;36m  File \u001b[1;32m\"<ipython-input-3-1431cdd90dbd>\"\u001b[1;36m, line \u001b[1;32m2\u001b[0m\n\u001b[1;33m    s1   = sorted( data, key = lambda (num, name) : num )\u001b[0m\n\u001b[1;37m                                      ^\u001b[0m\n\u001b[1;31mSyntaxError\u001b[0m\u001b[1;31m:\u001b[0m invalid syntax\n"
     ]
    }
   ],
   "source": [
    "data = [ (4, 'Riahanna'), (3, 'Cherry'), (2, 'Katy'), (3, 'Adel'), (1, 'Daisy'), (3, 'Barbara' ) ]\n",
    "s1   = sorted( data, key = lambda (num, name) : num )\n",
    "\n",
    "s2   = data\n",
    "\n",
    "s2.sort( key = lambda (num, str): num )\n",
    "\n",
    "print 'data   : {0}'.format( data )\n",
    "print 'sorted1: {0}'.format( s1    )\n",
    "print 'sorted2: {0}'.format( s2    )"
   ]
  },
  {
   "cell_type": "markdown",
   "metadata": {},
   "source": [
    "### multiples levels of sorting an array of tuples. Similar to order by in SQL."
   ]
  },
  {
   "cell_type": "code",
   "execution_count": 29,
   "metadata": {},
   "outputs": [
    {
     "name": "stdout",
     "output_type": "stream",
     "text": [
      "data   : [(4, 'Riahanna'), (3, 'Adel'), (3, 'Barbara'), (3, 'Cherry'), (2, 'Katy'), (1, 'Daisy')]\n",
      "\n",
      " sorted by first attribute in descending, second attribute in ascending order\n",
      "s1     : [(4, 'Riahanna'), (3, 'Adel'), (3, 'Barbara'), (3, 'Cherry'), (2, 'Katy'), (1, 'Daisy')]\n",
      "s2     : [(4, 'Riahanna'), (3, 'Adel'), (3, 'Barbara'), (3, 'Cherry'), (2, 'Katy'), (1, 'Daisy')]\n",
      "s3     : [(4, 'Riahanna'), (3, 'Adel'), (3, 'Barbara'), (3, 'Cherry'), (2, 'Katy'), (1, 'Daisy')]\n"
     ]
    }
   ],
   "source": [
    "data = [ (4, 'Riahanna'), (3, 'Cherry'), (2, 'Katy'), (3, 'Adel'), (1, 'Daisy'), (3, 'Barbara' ) ]\n",
    "s1    = sorted( data, key = lambda t: ( -t[ 0 ], t[ 1 ]) )\n",
    "\n",
    "s2   = data\n",
    "s2.sort( key = lambda t: ( -t[ 0 ], t[1] ) )\n",
    "\n",
    "s3 = data\n",
    "s3.sort( key = lambda (i, a): ( -i, a ) )\n",
    "\n",
    "print 'data   : {0}'.format( data )\n",
    "\n",
    "print '\\n sorted by first attribute in descending, second attribute in ascending order'\n",
    "print 's1     : {0}'.format( s1    )\n",
    "print 's2     : {0}'.format( s2    )\n",
    "print 's3     : {0}'.format( s3    )"
   ]
  },
  {
   "cell_type": "markdown",
   "metadata": {},
   "source": [
    "<a id = 'numpy_arrays' ></a>"
   ]
  },
  {
   "cell_type": "markdown",
   "metadata": {},
   "source": [
    "## numpy arrays"
   ]
  },
  {
   "cell_type": "markdown",
   "metadata": {},
   "source": [
    "convert array of floats to integers"
   ]
  },
  {
   "cell_type": "code",
   "execution_count": 1,
   "metadata": {},
   "outputs": [
    {
     "name": "stdout",
     "output_type": "stream",
     "text": [
      "[ 1.   2.   2.5]\n",
      "[1 2 2]\n"
     ]
    }
   ],
   "source": [
    "import numpy as np\n",
    "\n",
    "x = np.array([1, 2, 2.5])\n",
    "print x\n",
    "\n",
    "\n",
    "print x.astype(int)"
   ]
  },
  {
   "cell_type": "markdown",
   "metadata": {},
   "source": [
    "change the value of one cell that satisfy a condition"
   ]
  },
  {
   "cell_type": "code",
   "execution_count": 25,
   "metadata": {},
   "outputs": [
    {
     "name": "stdout",
     "output_type": "stream",
     "text": [
      "a: [1 2 3 4 5] \n",
      "b: [  1   2   3 255 255] \n",
      "c: [1, 255, 3, 4, 5] \n"
     ]
    }
   ],
   "source": [
    "import numpy as np\n",
    "\n",
    "a = np.array(  [ 1, 2, 3, 4, 5 ] )\n",
    " \n",
    "print 'a: {0} '.format( a )\n",
    "\n",
    "b = a\n",
    "b[ b > 3 ] = 255\n",
    "print 'b: {0} '.format( b )\n",
    "\n",
    "# only works with numpy arrays\n",
    "c = [ 1, 2, 3, 4, 5 ]\n",
    "c [ c > 3 ] = 255\n",
    "print 'c: {0} '.format( c )"
   ]
  },
  {
   "cell_type": "markdown",
   "metadata": {},
   "source": [
    "Count the numbers of cells with a specific value"
   ]
  },
  {
   "cell_type": "code",
   "execution_count": 24,
   "metadata": {},
   "outputs": [
    {
     "name": "stdout",
     "output_type": "stream",
     "text": [
      "2\n",
      "4\n",
      "4\n"
     ]
    }
   ],
   "source": [
    "a = np.array( [ 0, 2, 0, 4 ] )\n",
    "b = np.array( [ 0, 0, 0, 0 ] )\n",
    "\n",
    "\n",
    "print len( a[ a == 0 ] )\n",
    "print len( b[ b == 0 ] )\n",
    "\n",
    "print len( b )\n",
    "\n",
    "# only works with numpy arrays\n",
    "#c = [ 0, 2, 0, 4 ]\n",
    "#print len( c[ c == 0 ] )"
   ]
  },
  {
   "cell_type": "markdown",
   "metadata": {},
   "source": [
    "#### sum"
   ]
  },
  {
   "cell_type": "code",
   "execution_count": 3,
   "metadata": {},
   "outputs": [
    {
     "name": "stdout",
     "output_type": "stream",
     "text": [
      "sum_rows: [0 6]\n",
      "sum_cols: [1 5]\n"
     ]
    }
   ],
   "source": [
    "import numpy as np\n",
    "\n",
    "sum_rows = np.sum( [[0, 1], [0, 5]], axis= 0 )\n",
    "sum_cols = np.sum( [[0, 1], [0, 5]], axis= 1 )\n",
    "\n",
    "print( 'sum_rows: {0}'.format( sum_rows ) )\n",
    "print( 'sum_cols: {0}'.format( sum_cols ) )\n"
   ]
  },
  {
   "cell_type": "markdown",
   "metadata": {},
   "source": [
    "#### convert all cells to absolute values"
   ]
  },
  {
   "cell_type": "code",
   "execution_count": 5,
   "metadata": {},
   "outputs": [
    {
     "name": "stdout",
     "output_type": "stream",
     "text": [
      "[[1 2]\n",
      " [3 4]]\n"
     ]
    }
   ],
   "source": [
    "a = np.abs( [[-1, -2], [-3, -4]] )\n",
    "print( a )"
   ]
  },
  {
   "cell_type": "markdown",
   "metadata": {},
   "source": [
    "<a id = 'dictionaries' ></a>"
   ]
  },
  {
   "cell_type": "markdown",
   "metadata": {},
   "source": [
    "## Dictionaries"
   ]
  },
  {
   "cell_type": "markdown",
   "metadata": {},
   "source": [
    "create empty dictionary"
   ]
  },
  {
   "cell_type": "code",
   "execution_count": 1,
   "metadata": {},
   "outputs": [],
   "source": [
    "d1 = dict()\n",
    "d2 = {}"
   ]
  },
  {
   "cell_type": "markdown",
   "metadata": {},
   "source": [
    "initialize dictionary"
   ]
  },
  {
   "cell_type": "code",
   "execution_count": 2,
   "metadata": {},
   "outputs": [
    {
     "data": {
      "text/plain": [
       "{'dog': 'Spike', 'eagle': 'Atila', 'shark': 'Jaws'}"
      ]
     },
     "execution_count": 2,
     "metadata": {},
     "output_type": "execute_result"
    }
   ],
   "source": [
    "d1 = { 'shark': 'Jaws', 'dog': 'Spike',  'eagle': 'Atila' }\n",
    "d1"
   ]
  },
  {
   "cell_type": "markdown",
   "metadata": {},
   "source": [
    "insert key value"
   ]
  },
  {
   "cell_type": "code",
   "execution_count": 7,
   "metadata": {},
   "outputs": [
    {
     "data": {
      "text/plain": [
       "{'dog': 'Spike', 'eagle': 'Atila', 'shark': 'Jaws', 'turtle': 'Micaelo'}"
      ]
     },
     "execution_count": 7,
     "metadata": {},
     "output_type": "execute_result"
    }
   ],
   "source": [
    "d1[ 'turtle' ] = 'Micaelo'\n",
    "d1"
   ]
  },
  {
   "cell_type": "markdown",
   "metadata": {},
   "source": [
    "update value of a specific key"
   ]
  },
  {
   "cell_type": "code",
   "execution_count": 8,
   "metadata": {},
   "outputs": [
    {
     "data": {
      "text/plain": [
       "{'dog': 'Spike', 'eagle': 'Atila', 'shark': 'Jaws', 'turtle': 'ninja'}"
      ]
     },
     "execution_count": 8,
     "metadata": {},
     "output_type": "execute_result"
    }
   ],
   "source": [
    "d1[ 'turtle' ] = 'ninja'\n",
    "d1"
   ]
  },
  {
   "cell_type": "markdown",
   "metadata": {},
   "source": [
    "get value of key"
   ]
  },
  {
   "cell_type": "code",
   "execution_count": 11,
   "metadata": {},
   "outputs": [
    {
     "name": "stdout",
     "output_type": "stream",
     "text": [
      "ninja\n"
     ]
    }
   ],
   "source": [
    "print( d1[ 'turtle' ] )"
   ]
  },
  {
   "cell_type": "markdown",
   "metadata": {},
   "source": [
    "loop a dictionary"
   ]
  },
  {
   "cell_type": "code",
   "execution_count": 13,
   "metadata": {},
   "outputs": [
    {
     "ename": "AttributeError",
     "evalue": "'dict' object has no attribute 'iteritems'",
     "output_type": "error",
     "traceback": [
      "\u001b[1;31m---------------------------------------------------------------------------\u001b[0m",
      "\u001b[1;31mAttributeError\u001b[0m                            Traceback (most recent call last)",
      "\u001b[1;32m<ipython-input-13-9027cc851250>\u001b[0m in \u001b[0;36m<module>\u001b[1;34m()\u001b[0m\n\u001b[1;32m----> 1\u001b[1;33m \u001b[1;32mfor\u001b[0m \u001b[0mkey\u001b[0m\u001b[1;33m,\u001b[0m \u001b[0mvalue\u001b[0m \u001b[1;32min\u001b[0m \u001b[0md1\u001b[0m\u001b[1;33m.\u001b[0m\u001b[0miteritems\u001b[0m\u001b[1;33m(\u001b[0m\u001b[1;33m)\u001b[0m\u001b[1;33m:\u001b[0m\u001b[1;33m\u001b[0m\u001b[0m\n\u001b[0m\u001b[0;32m      2\u001b[0m     \u001b[0mprint\u001b[0m\u001b[1;33m(\u001b[0m \u001b[1;34m'{0} : {1}'\u001b[0m\u001b[1;33m.\u001b[0m\u001b[0mformat\u001b[0m\u001b[1;33m(\u001b[0m \u001b[0mkey\u001b[0m\u001b[1;33m,\u001b[0m \u001b[0mvalue\u001b[0m \u001b[1;33m)\u001b[0m \u001b[1;33m)\u001b[0m\u001b[1;33m\u001b[0m\u001b[0m\n",
      "\u001b[1;31mAttributeError\u001b[0m: 'dict' object has no attribute 'iteritems'"
     ]
    }
   ],
   "source": [
    "# python 2.7\n",
    "for key, value in d1.iteritems():\n",
    "    print( '{0} : {1}'.format( key, value ) )"
   ]
  },
  {
   "cell_type": "code",
   "execution_count": 4,
   "metadata": {},
   "outputs": [
    {
     "name": "stdout",
     "output_type": "stream",
     "text": [
      "shark : Jaws\n",
      "dog : Spike\n",
      "eagle : Atila\n"
     ]
    }
   ],
   "source": [
    "# python 3.6\n",
    "for key, value in d1.items():\n",
    "    print( '{0} : {1}'.format( key, value ) )"
   ]
  },
  {
   "cell_type": "markdown",
   "metadata": {},
   "source": [
    "loop only keys in dictionary"
   ]
  },
  {
   "cell_type": "code",
   "execution_count": 4,
   "metadata": {},
   "outputs": [
    {
     "name": "stdout",
     "output_type": "stream",
     "text": [
      "shark\n",
      "dog\n",
      "eagle\n"
     ]
    }
   ],
   "source": [
    "for key in d1:\n",
    "    print( key )"
   ]
  },
  {
   "cell_type": "markdown",
   "metadata": {},
   "source": [
    "verify if key exist"
   ]
  },
  {
   "cell_type": "code",
   "execution_count": 32,
   "metadata": {},
   "outputs": [
    {
     "name": "stdout",
     "output_type": "stream",
     "text": [
      "our dog is: Spike\n",
      "we do not have crocodiles\n"
     ]
    }
   ],
   "source": [
    "if 'dog' in d1:\n",
    "    print 'our dog is: ' + d1[ 'dog' ]\n",
    "\n",
    "if 'crocodile' not in d1:\n",
    "    print 'we do not have crocodiles'"
   ]
  },
  {
   "cell_type": "markdown",
   "metadata": {},
   "source": [
    "#### convert from dictionary to array"
   ]
  },
  {
   "cell_type": "code",
   "execution_count": 1,
   "metadata": {},
   "outputs": [
    {
     "data": {
      "text/plain": [
       "[(1, 'a'), (3, 'c'), (2, 'b')]"
      ]
     },
     "execution_count": 1,
     "metadata": {},
     "output_type": "execute_result"
    }
   ],
   "source": [
    "d = { 'a': 1, 'b': 2, 'c': 3 }\n",
    "    \n",
    "a =  [(v, k) for k, v in d.items()]    \n",
    "\n",
    "a"
   ]
  },
  {
   "cell_type": "markdown",
   "metadata": {},
   "source": [
    "<a id = 'hash_table' ></a>"
   ]
  },
  {
   "cell_type": "markdown",
   "metadata": {},
   "source": [
    "#### defaultdict - hash table"
   ]
  },
  {
   "cell_type": "code",
   "execution_count": 8,
   "metadata": {},
   "outputs": [
    {
     "name": "stdout",
     "output_type": "stream",
     "text": [
      "A, [0, 4, 10]\n",
      "n, [1]\n",
      "t, [2]\n",
      " , [3, 9]\n",
      "r, [5, 6]\n",
      "o, [7]\n",
      "w, [8]\n",
      "x, [11]\n",
      "l, [12]\n",
      "e, [13]\n"
     ]
    }
   ],
   "source": [
    "from collections import defaultdict\n",
    "\n",
    "a = 'Ant Arrow Axle'\n",
    "\n",
    "n = len( a )\n",
    "d = defaultdict(list)\n",
    "for i in range( 0, n ):\n",
    "    ch = a[ i ]\n",
    "    d[ ch ].append( i )\n",
    "\n",
    "for k,v in d.items():\n",
    "    print( '{}, {}'.format( k, v ) )"
   ]
  },
  {
   "cell_type": "markdown",
   "metadata": {},
   "source": [
    "<a id = 'collections' ></a>"
   ]
  },
  {
   "cell_type": "markdown",
   "metadata": {},
   "source": [
    "#### Collections"
   ]
  },
  {
   "cell_type": "code",
   "execution_count": 3,
   "metadata": {},
   "outputs": [
    {
     "data": {
      "text/plain": [
       "Counter({'blue': 3, 'green': 1, 'red': 2})"
      ]
     },
     "execution_count": 3,
     "metadata": {},
     "output_type": "execute_result"
    }
   ],
   "source": [
    "from collections import Counter\n",
    "\n",
    "cnt = Counter()\n",
    "for word in ['red', 'blue', 'red', 'green', 'blue', 'blue']:\n",
    "    cnt[word] += 1\n",
    "\n",
    "cnt"
   ]
  },
  {
   "cell_type": "markdown",
   "metadata": {},
   "source": [
    "## references"
   ]
  },
  {
   "cell_type": "markdown",
   "metadata": {},
   "source": [
    "* https://docs.python.org/2/tutorial/\n",
    "* https://regexone.com/\n",
    "* https://regexone.com/references/python"
   ]
  }
 ],
 "metadata": {
  "kernelspec": {
   "display_name": "Python 3",
   "language": "python",
   "name": "python3"
  },
  "language_info": {
   "codemirror_mode": {
    "name": "ipython",
    "version": 3
   },
   "file_extension": ".py",
   "mimetype": "text/x-python",
   "name": "python",
   "nbconvert_exporter": "python",
   "pygments_lexer": "ipython3",
   "version": "3.6.1"
  }
 },
 "nbformat": 4,
 "nbformat_minor": 1
}
