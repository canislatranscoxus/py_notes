{
 "cells": [
  {
   "cell_type": "markdown",
   "metadata": {},
   "source": [
    "# Python notes 4 - txt\n"
   ]
  },
  {
   "cell_type": "markdown",
   "metadata": {},
   "source": [
    "this document is a kind of cook notebook with receipts to help you code faster.\n",
    "enjoy it \n",
    ":)"
   ]
  },
  {
   "cell_type": "markdown",
   "metadata": {},
   "source": [
    "## Table of Content\n",
    "\n",
    "* [system](#system)\n",
    "* [txt_files](#txt_files)\n",
    "* [directories_folders](#directories_folders)\n",
    "* [json_files_and_objects](#json_files_and_objects)\n",
    "* [subprocess](#subprocess)\n",
    "* [threads](#threads)\n",
    "* [iterators](#iterators)\n",
    "* [generators](#generators)\n"
   ]
  },
  {
   "cell_type": "markdown",
   "metadata": {},
   "source": [
    "<a id = 'system' ></a>"
   ]
  },
  {
   "cell_type": "markdown",
   "metadata": {},
   "source": [
    "## system"
   ]
  },
  {
   "cell_type": "markdown",
   "metadata": {},
   "source": [
    "### get computer name"
   ]
  },
  {
   "cell_type": "code",
   "execution_count": 3,
   "metadata": {},
   "outputs": [
    {
     "data": {
      "text/plain": [
       "'MTYTM1768N3H2'"
      ]
     },
     "execution_count": 3,
     "metadata": {},
     "output_type": "execute_result"
    }
   ],
   "source": [
    "import platform\n",
    "platform.node()\n",
    "\n"
   ]
  },
  {
   "cell_type": "code",
   "execution_count": 2,
   "metadata": {},
   "outputs": [
    {
     "data": {
      "text/plain": [
       "'MTYTM1768N3H2'"
      ]
     },
     "execution_count": 2,
     "metadata": {},
     "output_type": "execute_result"
    }
   ],
   "source": [
    "import socket\n",
    "socket.gethostname()"
   ]
  },
  {
   "cell_type": "markdown",
   "metadata": {},
   "source": [
    "### get directory of the running script"
   ]
  },
  {
   "cell_type": "code",
   "execution_count": 9,
   "metadata": {},
   "outputs": [
    {
     "name": "stdout",
     "output_type": "stream",
     "text": [
      "C:\\\n"
     ]
    }
   ],
   "source": [
    "import os\n",
    "#os.chdir(os.path.dirname(os.getcwd()))\n",
    "wdir = os.path.dirname( os.getcwd() )\n",
    "print( wdir )"
   ]
  },
  {
   "cell_type": "code",
   "execution_count": null,
   "metadata": {
    "collapsed": true
   },
   "outputs": [],
   "source": []
  },
  {
   "cell_type": "code",
   "execution_count": null,
   "metadata": {
    "collapsed": true
   },
   "outputs": [],
   "source": []
  },
  {
   "cell_type": "markdown",
   "metadata": {},
   "source": [
    "<a id = 'txt_files' ></a>"
   ]
  },
  {
   "cell_type": "markdown",
   "metadata": {},
   "source": [
    "## TXT files"
   ]
  },
  {
   "cell_type": "markdown",
   "metadata": {},
   "source": [
    "#### write a txt file to disk"
   ]
  },
  {
   "cell_type": "code",
   "execution_count": 2,
   "metadata": {},
   "outputs": [
    {
     "name": "stdout",
     "output_type": "stream",
     "text": [
      "file has been written\n"
     ]
    }
   ],
   "source": [
    "import io\n",
    "#import os\n",
    "import sys\n",
    "\n",
    "\n",
    "with open( 'c:/aat/hello2.txt', \"w\") as file:\n",
    "    file.write( 'beautiful day \\r\\n' )\n",
    "    file.write( \"let's go to the movies \\r\\n\" )\n",
    "    file.write( \"I preffer goint to skate \\r\\n\" )\n",
    "    file.write( \"Yes, me too \\r\\n\" )\n",
    "    \n",
    "    \n",
    "print ( 'file has been written' )    "
   ]
  },
  {
   "cell_type": "markdown",
   "metadata": {},
   "source": [
    "#### reading txt"
   ]
  },
  {
   "cell_type": "code",
   "execution_count": 37,
   "metadata": {},
   "outputs": [
    {
     "name": "stdout",
     "output_type": "stream",
     "text": [
      "this is the entire file\n",
      "beautiful day \n",
      "let's go to the movies \n",
      "I preffer goint to skate \n",
      "Yes, me too \n",
      "\n"
     ]
    }
   ],
   "source": [
    "import io\n",
    "#import os\n",
    "import sys\n",
    "\n",
    "print ( 'this is the entire file' )\n",
    "file = open( 'c:/aat/hello.txt', \"r\")\n",
    "\n",
    "print( file.read() )\n",
    "file.close()"
   ]
  },
  {
   "cell_type": "markdown",
   "metadata": {},
   "source": [
    "#### reading line by line"
   ]
  },
  {
   "cell_type": "code",
   "execution_count": 38,
   "metadata": {},
   "outputs": [
    {
     "name": "stdout",
     "output_type": "stream",
     "text": [
      "beautiful day \n",
      "\n",
      "let's go to the movies \n",
      "\n",
      "I preffer goint to skate \n",
      "\n",
      "Yes, me too \n",
      "\n"
     ]
    }
   ],
   "source": [
    "import io\n",
    "#import os\n",
    "import sys\n",
    "\n",
    "fname = 'c:/aat/hello.txt'\n",
    "\n",
    "with open( fname ) as f:\n",
    "    for line in f:\n",
    "        print ( line  )"
   ]
  },
  {
   "cell_type": "markdown",
   "metadata": {},
   "source": [
    "redirect printing to txt file"
   ]
  },
  {
   "cell_type": "code",
   "execution_count": null,
   "metadata": {
    "collapsed": true
   },
   "outputs": [],
   "source": [
    "import sys\n",
    "sys.stdout = open( 'myfile.txt', 'w')\n",
    "print 'test'"
   ]
  },
  {
   "cell_type": "markdown",
   "metadata": {},
   "source": [
    "<a id = 'directories_folders' ></a>"
   ]
  },
  {
   "cell_type": "markdown",
   "metadata": {},
   "source": [
    "## Directories - folders"
   ]
  },
  {
   "cell_type": "markdown",
   "metadata": {},
   "source": [
    "#### working directory"
   ]
  },
  {
   "cell_type": "code",
   "execution_count": null,
   "metadata": {},
   "outputs": [],
   "source": [
    "import os\n",
    "cwd = os.getcwd()\n",
    "print( cwd )"
   ]
  },
  {
   "cell_type": "markdown",
   "metadata": {},
   "source": [
    "#### create directory"
   ]
  },
  {
   "cell_type": "code",
   "execution_count": null,
   "metadata": {
    "collapsed": true
   },
   "outputs": [],
   "source": [
    "import os\n",
    "import shutil\n",
    "import sys\n",
    "\n",
    "if os.path.exists( dirPath ):\n",
    "    shutil.rmtree( dirPath )\n",
    "\n",
    "os.makedirs( dirPath )"
   ]
  },
  {
   "cell_type": "markdown",
   "metadata": {},
   "source": [
    "<a id = 'json_files_and_objects' ></a>"
   ]
  },
  {
   "cell_type": "markdown",
   "metadata": {},
   "source": [
    "## json files and objects"
   ]
  },
  {
   "cell_type": "markdown",
   "metadata": {},
   "source": [
    "how to create a json object"
   ]
  },
  {
   "cell_type": "code",
   "execution_count": 39,
   "metadata": {},
   "outputs": [
    {
     "name": "stdout",
     "output_type": "stream",
     "text": [
      "{'age': 80, 'weight': '1.234', 'name': 'Ouwei', 'animal': 'turtle'}\n",
      "<type 'dict'>\n"
     ]
    }
   ],
   "source": [
    "import json\n",
    "\n",
    "petName = 'Ouwei'\n",
    "weight  = 1.234\n",
    "\n",
    "data = { 'name': petName, 'animal' : 'turtle', 'weight': '{0:.3f}'.format( weight ), 'age' : 80 }\n",
    "\n",
    "print data\n",
    "print type( data )"
   ]
  },
  {
   "cell_type": "markdown",
   "metadata": {},
   "source": [
    "json. how to parse json object"
   ]
  },
  {
   "cell_type": "code",
   "execution_count": 40,
   "metadata": {},
   "outputs": [
    {
     "name": "stdout",
     "output_type": "stream",
     "text": [
      "turtle\n"
     ]
    }
   ],
   "source": [
    "animal = data[ 'animal' ]\n",
    "print animal"
   ]
  },
  {
   "cell_type": "markdown",
   "metadata": {},
   "source": [
    "json. how to write to disk json file"
   ]
  },
  {
   "cell_type": "code",
   "execution_count": 41,
   "metadata": {
    "collapsed": true
   },
   "outputs": [],
   "source": [
    "import json\n",
    "\n",
    "data = { 'name': 'Ouwei', 'animal' : 'turtle', 'weight': 1.234 }\n",
    "\n",
    "with open( 'C:/aat/myPets.json' , 'w' ) as f:\n",
    "    json.dump( data, f )"
   ]
  },
  {
   "cell_type": "markdown",
   "metadata": {},
   "source": [
    "json. how to read/open json file"
   ]
  },
  {
   "cell_type": "code",
   "execution_count": 42,
   "metadata": {},
   "outputs": [
    {
     "name": "stdout",
     "output_type": "stream",
     "text": [
      "turtle\n"
     ]
    }
   ],
   "source": [
    "import json\n",
    "\n",
    "with open( 'C:/aat/myPets.json' ) as data_file:    \n",
    "    data = json.load( data_file )\n",
    "\n",
    "print data[ 'animal' ]"
   ]
  },
  {
   "cell_type": "markdown",
   "metadata": {},
   "source": [
    "### json. how to convert from string to json."
   ]
  },
  {
   "cell_type": "code",
   "execution_count": 43,
   "metadata": {},
   "outputs": [
    {
     "name": "stdout",
     "output_type": "stream",
     "text": [
      "[u'foo', {u'bar': [u'baz', None, 1.0, 2]}]\n"
     ]
    }
   ],
   "source": [
    "import  json\n",
    "\n",
    "myString = '[\"foo\", {\"bar\":[\"baz\", null, 1.0, 2]}]'\n",
    "myJson = json.loads( myString )\n",
    "print myJson"
   ]
  },
  {
   "cell_type": "markdown",
   "metadata": {},
   "source": [
    "### json. how to convert from json to string"
   ]
  },
  {
   "cell_type": "code",
   "execution_count": 44,
   "metadata": {},
   "outputs": [
    {
     "name": "stdout",
     "output_type": "stream",
     "text": [
      "[\n",
      "    \"foo\", \n",
      "    {\n",
      "        \"bar\": [\n",
      "            \"baz\", \n",
      "            null, \n",
      "            1.0, \n",
      "            2\n",
      "        ]\n",
      "    }\n",
      "]\n"
     ]
    }
   ],
   "source": [
    "myString = json.dumps( myJson, indent=4 )\n",
    "print myString"
   ]
  },
  {
   "cell_type": "markdown",
   "metadata": {},
   "source": [
    "how to print formatted pretty json"
   ]
  },
  {
   "cell_type": "code",
   "execution_count": 8,
   "metadata": {},
   "outputs": [
    {
     "name": "stdout",
     "output_type": "stream",
     "text": [
      "[\n",
      "    \"foo\", \n",
      "    {\n",
      "        \"bar\": [\n",
      "            \"baz\", \n",
      "            null, \n",
      "            1.0, \n",
      "            2\n",
      "        ]\n",
      "    }\n",
      "]\n"
     ]
    }
   ],
   "source": [
    "print( json.dumps( myJson, indent=4 ) )"
   ]
  },
  {
   "cell_type": "markdown",
   "metadata": {},
   "source": [
    "<a id = 'threads'> </a>"
   ]
  },
  {
   "cell_type": "markdown",
   "metadata": {},
   "source": [
    "## Threads"
   ]
  },
  {
   "cell_type": "markdown",
   "metadata": {},
   "source": [
    "threads, multi-threading, parallel, \n",
    "\n",
    "#### How to execute multiple threads at the same time"
   ]
  },
  {
   "cell_type": "code",
   "execution_count": null,
   "metadata": {},
   "outputs": [],
   "source": [
    "from multiprocessing import Pool\n",
    "\n",
    "def f(x):\n",
    "    return x*x\n",
    "\n",
    "\n",
    "p = Pool(5)\n",
    "print( p.map( f, [1, 2, 3] ) )\n",
    "p.close()\n",
    "p.join()\n"
   ]
  },
  {
   "cell_type": "code",
   "execution_count": null,
   "metadata": {
    "collapsed": true
   },
   "outputs": [],
   "source": [
    "import time\n",
    "import multiprocessing as mp\n",
    "\n",
    "data = [ 4, 3, 2 ]\n",
    "\n",
    "def my_function( n ):\n",
    "    print( 'sleeping {0} seconds'.format( n ) )\n",
    "    \n",
    "    # do something\n",
    "    time.sleep( n )\n",
    "    \n",
    "    return n * 10\n",
    "\n",
    "with mp.Pool( processes = 5 ) as pool:\n",
    "    pool.map( my_function, data)\n",
    "    pool.close()\n",
    "    pool.join()\n",
    "\n",
    "print\n",
    "    "
   ]
  },
  {
   "cell_type": "markdown",
   "metadata": {},
   "source": [
    "<a id = 'subprocess'> </a>"
   ]
  },
  {
   "cell_type": "markdown",
   "metadata": {},
   "source": [
    "<a id = 'subprocess'> </a>"
   ]
  },
  {
   "cell_type": "markdown",
   "metadata": {},
   "source": [
    "## Subrocess"
   ]
  },
  {
   "cell_type": "markdown",
   "metadata": {},
   "source": [
    "### Execute a Process from OS ( unix, linux, windows )"
   ]
  },
  {
   "cell_type": "code",
   "execution_count": 3,
   "metadata": {},
   "outputs": [
    {
     "name": "stdout",
     "output_type": "stream",
     "text": [
      "['dir', '>', 'C:/aat/prj/python_miniworkshop/a.txt']\n"
     ]
    },
    {
     "data": {
      "text/plain": [
       "<subprocess.Popen at 0x5fa7eb8>"
      ]
     },
     "execution_count": 3,
     "metadata": {},
     "output_type": "execute_result"
    }
   ],
   "source": [
    "import shlex, subprocess\n",
    "\n",
    "linux_cmd   = 'ls > /home/aat/a.txt'\n",
    "windows_cmd = 'dir > C:/aat/prj/python_miniworkshop/a.txt'\n",
    "\n",
    "args         = shlex.split(command_line)\n",
    "print( args )\n",
    "subprocess.Popen( [ args ], shell = True)\n",
    "\n"
   ]
  },
  {
   "cell_type": "markdown",
   "metadata": {},
   "source": [
    "<a id = 'iterators'> </a>"
   ]
  },
  {
   "cell_type": "markdown",
   "metadata": {
    "collapsed": true
   },
   "source": [
    "### iterators"
   ]
  },
  {
   "cell_type": "code",
   "execution_count": 49,
   "metadata": {},
   "outputs": [
    {
     "name": "stdout",
     "output_type": "stream",
     "text": [
      "Riahanna\n",
      "Cherry\n",
      "['Riahanna', 'Cherry', 'Katy', 'Adel', 'Daisy', 'Barbara']\n",
      "1871532179827022458174000988276216935827206888429506708550903646197795625431282041317969395621763461265374882190047432827663856987\n"
     ]
    }
   ],
   "source": [
    "data = [ 'Riahanna', 'Cherry', 'Katy', 'Adel', 'Daisy', 'Barbara' ]\n",
    "i = iter( data )\n",
    "print( i.next() )\n",
    "print( i.next() )\n",
    "\n",
    "print data\n",
    "\n",
    "print ( 12323453564576457814123523452356245736735683 ** 3 )"
   ]
  },
  {
   "cell_type": "markdown",
   "metadata": {},
   "source": [
    "<a id = 'generators'> </a>"
   ]
  },
  {
   "cell_type": "markdown",
   "metadata": {},
   "source": [
    "### generators"
   ]
  },
  {
   "cell_type": "code",
   "execution_count": 51,
   "metadata": {},
   "outputs": [
    {
     "name": "stdout",
     "output_type": "stream",
     "text": [
      "33\n",
      "n\n",
      "a\n",
      "e\n",
      "c\n",
      "o\n",
      " \n",
      "e\n",
      "u\n",
      "l\n",
      "b\n",
      " \n",
      "p\n",
      "e\n",
      "e\n",
      "d\n",
      " \n",
      "e\n",
      "h\n",
      "t\n",
      " \n",
      "n\n",
      "i\n",
      " \n",
      "e\n",
      "v\n",
      "i\n",
      "d\n",
      " \n",
      "s\n",
      "'\n",
      "t\n",
      "e\n",
      "l\n",
      "second call\n",
      "n\n",
      "a\n",
      "e\n",
      "c\n",
      "o\n",
      " \n",
      "e\n",
      "u\n",
      "l\n",
      "b\n",
      " \n",
      "p\n",
      "e\n",
      "e\n",
      "d\n",
      " \n",
      "e\n",
      "h\n",
      "t\n",
      " \n",
      "n\n",
      "i\n",
      " \n",
      "e\n",
      "v\n",
      "i\n",
      "d\n",
      " \n",
      "s\n",
      "'\n",
      "t\n",
      "e\n",
      "l\n"
     ]
    }
   ],
   "source": [
    "def reverse(data):\n",
    "    for index in range( len(data)-1, -1, -1):\n",
    "        yield data[index]\n",
    "        \n",
    "s = \"let's dive in the deep blue ocean\"        \n",
    "print len( s )\n",
    "\n",
    "for c in reverse( s ):\n",
    "    print c\n",
    "\n",
    "print ( 'second call' )    \n",
    "for c in reverse( s ):\n",
    "    print c    "
   ]
  },
  {
   "cell_type": "markdown",
   "metadata": {},
   "source": [
    "## references"
   ]
  },
  {
   "cell_type": "markdown",
   "metadata": {},
   "source": [
    "* https://docs.python.org/2/tutorial/\n",
    "* https://regexone.com/\n",
    "* https://regexone.com/references/python"
   ]
  }
 ],
 "metadata": {
  "kernelspec": {
   "display_name": "Python 3",
   "language": "python",
   "name": "python3"
  },
  "language_info": {
   "codemirror_mode": {
    "name": "ipython",
    "version": 3
   },
   "file_extension": ".py",
   "mimetype": "text/x-python",
   "name": "python",
   "nbconvert_exporter": "python",
   "pygments_lexer": "ipython3",
   "version": "3.6.1"
  }
 },
 "nbformat": 4,
 "nbformat_minor": 1
}
