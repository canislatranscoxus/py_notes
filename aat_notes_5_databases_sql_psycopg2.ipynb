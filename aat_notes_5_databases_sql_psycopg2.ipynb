{
 "cells": [
  {
   "cell_type": "markdown",
   "metadata": {},
   "source": [
    "![Python Logo](http://spark-mooc.github.io/web-assets/images/python-logo-master-v3-TM-flattened_small.png)\n",
    "<img src=\"http://www.deluxevectors.com/images/sample/postgresql-logo\" alt=\"Drawing\" style=\"width: 100px;\"/>\n",
    "\n",
    "\n",
    "# python database sql psycopg2 - Notes"
   ]
  },
  {
   "cell_type": "markdown",
   "metadata": {},
   "source": [
    "## Table of Content\n",
    "\n",
    "* [configure_password_file](#configure_password_file)\n",
    "* [libraries](#libraries)\n",
    "* [connect](#connect)\n",
    "* [executre_query](#execute_query)\n",
    "* [connect_with](#connect_with)\n",
    "* [loop_rows_with_iterator](#loop_rows_with_iterator)\n"
   ]
  },
  {
   "cell_type": "markdown",
   "metadata": {},
   "source": [
    "<a id = 'configure_password_file'> </a>"
   ]
  },
  {
   "cell_type": "markdown",
   "metadata": {},
   "source": [
    "### Configuring password file"
   ]
  },
  {
   "cell_type": "markdown",
   "metadata": {},
   "source": [
    "#### pgpass in windows"
   ]
  },
  {
   "cell_type": "markdown",
   "metadata": {},
   "source": [
    "* create a text file called c:\\myFolder\\pgpass.conf\n",
    "\n",
    "* in pgpass.conf type the password for a specific connection in the next format\n",
    "\n",
    "hostname:port:database:username:password\n",
    "\n",
    "\n"
   ]
  },
  {
   "cell_type": "markdown",
   "metadata": {},
   "source": [
    "##### below we show what we type inside pgpass.conf"
   ]
  },
  {
   "cell_type": "code",
   "execution_count": null,
   "metadata": {
    "collapsed": true
   },
   "outputs": [],
   "source": [
    "10.47.5.90:5439:TICKIT:monkey:123"
   ]
  },
  {
   "cell_type": "markdown",
   "metadata": {},
   "source": [
    "create an environment variable called PGPASSFILE pointing to the pgpass.conf file\n",
    "\n",
    "| Variable    | Value                   |\n",
    "| ----------  | ----------------------- |\n",
    "| PGPASSFILE  | c:\\myFolder\\pgpass.conf |\n",
    "\n",
    "\n",
    "and restart your computer\n",
    "    "
   ]
  },
  {
   "cell_type": "markdown",
   "metadata": {},
   "source": [
    "<a id = 'libraries'> </a>"
   ]
  },
  {
   "cell_type": "markdown",
   "metadata": {},
   "source": [
    "### include libraries"
   ]
  },
  {
   "cell_type": "code",
   "execution_count": null,
   "metadata": {
    "collapsed": true
   },
   "outputs": [],
   "source": [
    "import logging\n",
    "import psycopg2\n",
    "import psycopg2.extras\n",
    "import os\n",
    "import re\n",
    "import sys"
   ]
  },
  {
   "cell_type": "markdown",
   "metadata": {},
   "source": [
    "<a id = 'connect'> </a>"
   ]
  },
  {
   "cell_type": "markdown",
   "metadata": {},
   "source": [
    "## connect to database"
   ]
  },
  {
   "cell_type": "markdown",
   "metadata": {},
   "source": [
    "#### using a complete connection string including password"
   ]
  },
  {
   "cell_type": "code",
   "execution_count": null,
   "metadata": {
    "collapsed": true
   },
   "outputs": [],
   "source": [
    "# TICKIT, amazon redshift sample databse\n",
    "connection_string = \"host='10.47.5.90' port='5439' dbname='TICKIT' user='monkey' password='123' \"\n",
    "\n",
    "try:\n",
    "    conn = psycopg2.connect( connection_string )\n",
    "except:\n",
    "    print( 'not able to connect :( ' )"
   ]
  },
  {
   "cell_type": "markdown",
   "metadata": {},
   "source": [
    "create a connection connection string function"
   ]
  },
  {
   "cell_type": "code",
   "execution_count": 8,
   "metadata": {},
   "outputs": [
    {
     "data": {
      "text/plain": [
       "'host = myHostName dbname=myDataBase user=myUser password=top_secret'"
      ]
     },
     "execution_count": 8,
     "metadata": {},
     "output_type": "execute_result"
    }
   ],
   "source": [
    "def get_conn_string():\n",
    "    db = {\n",
    "        'hostname' : 'myHostName',\n",
    "        'port'     : '5432',\n",
    "        'database' : 'myDataBase',\n",
    "        'user'     : 'myUser',\n",
    "        'password' : 'top_secret',        \n",
    "    }\n",
    "    t = \"host = {hostname} dbname={database} user={user} password={password}\"\n",
    "    conn_str = t.format( **db )\n",
    "    return conn_str\n",
    "\n",
    "get_conn_string()"
   ]
  },
  {
   "cell_type": "markdown",
   "metadata": {},
   "source": [
    "#### ask password from user input"
   ]
  },
  {
   "cell_type": "code",
   "execution_count": 2,
   "metadata": {},
   "outputs": [
    {
     "name": "stdout",
     "output_type": "stream",
     "text": [
      "enter password: ········\n",
      "your password is open it sesamo\n"
     ]
    }
   ],
   "source": [
    "from getpass import getpass\n",
    "password = getpass( prompt = 'enter password: ' )\n",
    "\n",
    "print( 'your password is {}'.format( password ) )"
   ]
  },
  {
   "cell_type": "markdown",
   "metadata": {},
   "source": [
    "#### ask password for connection string"
   ]
  },
  {
   "cell_type": "code",
   "execution_count": 3,
   "metadata": {},
   "outputs": [
    {
     "name": "stdout",
     "output_type": "stream",
     "text": [
      "enter password: ········\n",
      "host = myHostName dbname=myDataBase user=myUser password=macalacachimba\n"
     ]
    }
   ],
   "source": [
    "from getpass import getpass\n",
    "\n",
    "db = {\n",
    "        'hostname' : 'myHostName',\n",
    "        'port'     : '5432',\n",
    "        'database' : 'myDataBase',\n",
    "        'user'     : 'myUser',\n",
    "        'password' : getpass( prompt = 'enter password: ' ),\n",
    "     }\n",
    "t = \"host = {hostname} dbname={database} user={user} password={password}\"\n",
    "conn_str = t.format( **db )\n",
    "print( conn_str )"
   ]
  },
  {
   "cell_type": "markdown",
   "metadata": {},
   "source": [
    "<a id = 'execute_query'> </a>"
   ]
  },
  {
   "cell_type": "markdown",
   "metadata": {},
   "source": [
    "### execute query"
   ]
  },
  {
   "cell_type": "code",
   "execution_count": null,
   "metadata": {
    "collapsed": true
   },
   "outputs": [],
   "source": [
    "# create query\n",
    "query = '''\n",
    "        SELECT name, firstName, lastName, address, telephone, email\n",
    "        FROM   myTable;\n",
    "      '''\n",
    "\n",
    "# create cursor - each row is a dictionary\n",
    "cur = conn.cursor( cursor_factory=psycopg2.extras.DictCursor )\n",
    "print \"Connected!\\n\"    \n",
    "\n",
    "# execute sql command\n",
    "cur.execute( query )\n",
    "\n",
    "# bring the data\n",
    "rows = cur.fetchall()"
   ]
  },
  {
   "cell_type": "markdown",
   "metadata": {},
   "source": [
    "get the number of returned rows by query"
   ]
  },
  {
   "cell_type": "code",
   "execution_count": null,
   "metadata": {
    "collapsed": true
   },
   "outputs": [],
   "source": [
    "if rows == None or rows.rowcount == 0:\n",
    "    print( 'no rows found in database' )\n",
    "else:\n",
    "    print 'number of Selected rows: {0} '.format( rows.rowcount )"
   ]
  },
  {
   "cell_type": "markdown",
   "metadata": {},
   "source": [
    "loop the returned rows"
   ]
  },
  {
   "cell_type": "code",
   "execution_count": null,
   "metadata": {
    "collapsed": true
   },
   "outputs": [],
   "source": [
    "for r in rows:\n",
    "    print ( r[ 'name'    ], r[ 'firstName' ], r[ 'lastName' ], \n",
    "            r[ 'address' ], r[ 'telephone' ], r[ 'email'    ] )\n",
    "    \n",
    "    "
   ]
  },
  {
   "cell_type": "markdown",
   "metadata": {
    "collapsed": true
   },
   "source": [
    "close connection to database"
   ]
  },
  {
   "cell_type": "code",
   "execution_count": null,
   "metadata": {
    "collapsed": true
   },
   "outputs": [],
   "source": [
    "conn.close()"
   ]
  },
  {
   "cell_type": "markdown",
   "metadata": {},
   "source": [
    "<a id = 'connect_with'> </a>"
   ]
  },
  {
   "cell_type": "markdown",
   "metadata": {
    "collapsed": true
   },
   "source": [
    "### connect and get cursor using with"
   ]
  },
  {
   "cell_type": "code",
   "execution_count": null,
   "metadata": {
    "collapsed": true
   },
   "outputs": [],
   "source": [
    "with psycopg.connect( connection_string, cursor_factory=psycopg2.extras.DictCursor  ) as conn:\n",
    "    with conn.cursor() as cur:\n",
    "        cur.execute( sql )\n",
    "        rows = cur.fetchall()\n",
    "        for row in rows()\n",
    "            print( row )"
   ]
  },
  {
   "cell_type": "markdown",
   "metadata": {},
   "source": [
    "#### get all the rows from a cursor"
   ]
  },
  {
   "cell_type": "code",
   "execution_count": null,
   "metadata": {},
   "outputs": [],
   "source": [
    "rows = cur.fetchall()"
   ]
  },
  {
   "cell_type": "markdown",
   "metadata": {},
   "source": [
    "#### get one row from the cursor"
   ]
  },
  {
   "cell_type": "code",
   "execution_count": null,
   "metadata": {},
   "outputs": [],
   "source": [
    "rows = cur.fetchone()"
   ]
  },
  {
   "cell_type": "markdown",
   "metadata": {},
   "source": [
    "<a id = 'loop_rows_with_iterator'> </a>"
   ]
  },
  {
   "cell_type": "markdown",
   "metadata": {},
   "source": [
    "### loop rows with iterator"
   ]
  },
  {
   "cell_type": "markdown",
   "metadata": {},
   "source": [
    "#### sql query - get iterator per rows"
   ]
  },
  {
   "cell_type": "code",
   "execution_count": null,
   "metadata": {
    "collapsed": true
   },
   "outputs": [],
   "source": [
    "def iter_row(cursor, size=10):\n",
    "    while True:\n",
    "        rows = cursor.fetchmany(size)\n",
    "        if not rows:\n",
    "            break\n",
    "        for row in rows:\n",
    "            yield row                        "
   ]
  },
  {
   "cell_type": "markdown",
   "metadata": {
    "collapsed": true
   },
   "source": [
    "#### execute a sql query"
   ]
  },
  {
   "cell_type": "code",
   "execution_count": null,
   "metadata": {
    "collapsed": true
   },
   "outputs": [],
   "source": [
    "def execute_one_sql( sql , params = None ):\n",
    "    with psycopg2.connect( get_conn_string() ) as conn:\n",
    "        with conn.cursor() as cur:\n",
    "            cur.execute( sql, params )\n",
    "            return cur.rowcount"
   ]
  },
  {
   "cell_type": "markdown",
   "metadata": {},
   "source": [
    "## references"
   ]
  },
  {
   "cell_type": "markdown",
   "metadata": {},
   "source": [
    "Psycopg2 Tutorial. Access PostgreSQL with Python\n",
    "* https://wiki.postgresql.org/wiki/Psycopg2_Tutorial\n",
    "* http://www.postgresqltutorial.com/postgresql-python/query/\n"
   ]
  },
  {
   "cell_type": "code",
   "execution_count": null,
   "metadata": {
    "collapsed": true
   },
   "outputs": [],
   "source": []
  }
 ],
 "metadata": {
  "kernelspec": {
   "display_name": "Python 3",
   "language": "python",
   "name": "python3"
  },
  "language_info": {
   "codemirror_mode": {
    "name": "ipython",
    "version": 3
   },
   "file_extension": ".py",
   "mimetype": "text/x-python",
   "name": "python",
   "nbconvert_exporter": "python",
   "pygments_lexer": "ipython3",
   "version": "3.6.1"
  }
 },
 "nbformat": 4,
 "nbformat_minor": 2
}
