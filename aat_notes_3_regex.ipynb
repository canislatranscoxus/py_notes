{
 "cells": [
  {
   "cell_type": "markdown",
   "metadata": {},
   "source": [
    "# Python notes 3 - regex"
   ]
  },
  {
   "cell_type": "markdown",
   "metadata": {},
   "source": [
    "this document is a kind of cook notebook with receipts to help you code faster.\n",
    "enjoy it \n",
    ":)"
   ]
  },
  {
   "cell_type": "markdown",
   "metadata": {},
   "source": [
    "## Table of Content\n",
    "\n",
    "\n",
    "* [regex](#regex)\n",
    "* [date_and_time](#date_and_time)\n",
    "* [processing_time](#processing_time)\n",
    "* [timedelta_pretty_print](#timedelta_pretty_print)\n",
    "* [file_names_and_paths](#file_names_and_paths)\n",
    "* [copy_file](#copy_file)\n",
    "\n"
   ]
  },
  {
   "cell_type": "markdown",
   "metadata": {},
   "source": [
    "<a id = 'regex' ></a>"
   ]
  },
  {
   "cell_type": "markdown",
   "metadata": {},
   "source": [
    "## regex - regular expressions"
   ]
  },
  {
   "cell_type": "markdown",
   "metadata": {},
   "source": [
    "#### regex mini course\n",
    "https://regexone.com/\n",
    "\n",
    "#### regex python reference\n",
    "https://regexone.com/references/python\n",
    "\n",
    "#### Regular Expressions Cookbook, 2nd Edition \n",
    "Detailed Solutions in Eight Programming Languages \n",
    "By Jan Goyvaerts, Steven Levithan\n",
    "Publisher: O'Reilly Media    \n",
    "http://shop.oreilly.com/product/0636920023630.do    \n",
    "    "
   ]
  },
  {
   "cell_type": "markdown",
   "metadata": {},
   "source": [
    "#### find one match"
   ]
  },
  {
   "cell_type": "code",
   "execution_count": 1,
   "metadata": {},
   "outputs": [
    {
     "name": "stdout",
     "output_type": "stream",
     "text": [
      "abc\n",
      "abc\n",
      "abc\n"
     ]
    }
   ],
   "source": [
    "# match the stringas that contain abc\n",
    "import re\n",
    "\n",
    "s1 = 'abcdefgabc'\n",
    "s2 = 'abcde'\n",
    "s3 = 'abc'\n",
    "\n",
    "pattern = 'abc'\n",
    "\n",
    "m1 = re.search( pattern, s1 )\n",
    "m2 = re.search( pattern, s2 )\n",
    "m3 = re.search( pattern, s3 )\n",
    "\n",
    "print( m1.group(0) )\n",
    "print( m2.group(0) )\n",
    "print( m2.group(0) )"
   ]
  },
  {
   "cell_type": "markdown",
   "metadata": {},
   "source": [
    "### find all matches"
   ]
  },
  {
   "cell_type": "code",
   "execution_count": 6,
   "metadata": {},
   "outputs": [
    {
     "ename": "AttributeError",
     "evalue": "'str' object has no attribute 'group'",
     "output_type": "error",
     "traceback": [
      "\u001b[1;31m---------------------------------------------------------------------------\u001b[0m",
      "\u001b[1;31mAttributeError\u001b[0m                            Traceback (most recent call last)",
      "\u001b[1;32m<ipython-input-6-f8545e8e666b>\u001b[0m in \u001b[0;36m<module>\u001b[1;34m()\u001b[0m\n\u001b[0;32m      9\u001b[0m     \u001b[1;31m#   Dec 12\u001b[0m\u001b[1;33m\u001b[0m\u001b[1;33m\u001b[0m\u001b[0m\n\u001b[0;32m     10\u001b[0m     \u001b[1;31m#print( \"Full match: %s\" % (match) )\u001b[0m\u001b[1;33m\u001b[0m\u001b[1;33m\u001b[0m\u001b[0m\n\u001b[1;32m---> 11\u001b[1;33m     \u001b[0mprint\u001b[0m\u001b[1;33m(\u001b[0m \u001b[1;34m\"Full match: {} {} {}\"\u001b[0m\u001b[1;33m.\u001b[0m\u001b[0mformat\u001b[0m\u001b[1;33m(\u001b[0m \u001b[0mmatch\u001b[0m\u001b[1;33m,\u001b[0m \u001b[0mmatch\u001b[0m\u001b[1;33m.\u001b[0m\u001b[0mgroup\u001b[0m\u001b[1;33m(\u001b[0m\u001b[1;36m0\u001b[0m\u001b[1;33m)\u001b[0m\u001b[1;33m,\u001b[0m \u001b[0mmatch\u001b[0m\u001b[1;33m.\u001b[0m\u001b[0mgroup\u001b[0m\u001b[1;33m(\u001b[0m\u001b[1;36m1\u001b[0m\u001b[1;33m)\u001b[0m \u001b[1;33m)\u001b[0m \u001b[1;33m)\u001b[0m\u001b[1;33m\u001b[0m\u001b[0m\n\u001b[0m",
      "\u001b[1;31mAttributeError\u001b[0m: 'str' object has no attribute 'group'"
     ]
    }
   ],
   "source": [
    "import re\n",
    "# Lets use a regular expression to match a few date strings.\n",
    "regex = r\"[a-zA-Z]+ \\d+\"\n",
    "matches = re.findall(regex, \"June 24, August 9, Dec 12\" )\n",
    "for match in matches:\n",
    "    # This will print:\n",
    "    #   June 24\n",
    "    #   August 9\n",
    "    #   Dec 12\n",
    "    print( \"Full match: %s\" % (match) )\n",
    "    "
   ]
  },
  {
   "cell_type": "markdown",
   "metadata": {},
   "source": [
    "### find a pattern and extract just a subpattern"
   ]
  },
  {
   "cell_type": "code",
   "execution_count": 3,
   "metadata": {},
   "outputs": [
    {
     "name": "stdout",
     "output_type": "stream",
     "text": [
      "('June', '24')\n",
      "('August', '9')\n",
      "('Dec', '12')\n"
     ]
    }
   ],
   "source": [
    "# To capture the specific months of each date we can use the following pattern\n",
    "\n",
    "regex = r\"([a-zA-Z]+) (\\d+)\"\n",
    "matches = re.findall(regex, \"June 24, August 9, Dec 12\")\n",
    "for match in matches:\n",
    "    # This will now print:\n",
    "    #   June\n",
    "    #   August\n",
    "    #   Dec\n",
    "    #print \"Match month: %s\" % (match)\n",
    "    print( match )\n"
   ]
  },
  {
   "cell_type": "code",
   "execution_count": 7,
   "metadata": {},
   "outputs": [
    {
     "name": "stdout",
     "output_type": "stream",
     "text": [
      "file_record_transcript.pdf\n",
      "file_record_transcript\n",
      "pdf\n",
      "file_07241999.pdf\n",
      "pattern not found for testfile_fake.pdf.tmp\n"
     ]
    }
   ],
   "source": [
    "# match all pdf files, ignore temporary files.\n",
    "\n",
    "import re\n",
    "\n",
    "s1 = 'file_record_transcript.pdf'\n",
    "s2 = 'file_07241999.pdf'\n",
    "\n",
    "#skip this temporal file\n",
    "s3 = 'testfile_fake.pdf.tmp'\n",
    "\n",
    "pattern = '^(file.+)\\.(pdf)$'\n",
    "\n",
    "m1 = re.search( pattern, s1 )\n",
    "m2 = re.search( pattern, s2 )\n",
    "m3 = re.search( pattern, s3 )\n",
    "\n",
    "print( m1.group(0) )\n",
    "print( m1.group(1) )\n",
    "print( m1.group(2) )\n",
    "\n",
    "\n",
    "\n",
    "print( m2.group(0) )\n",
    "\n",
    "if m3 == None:\n",
    "    print( 'pattern not found for {0}'.format( s3 ) )\n",
    "else:    \n",
    "    print( m3.group(0) )\n"
   ]
  },
  {
   "cell_type": "markdown",
   "metadata": {},
   "source": [
    "#### exercise_regex"
   ]
  },
  {
   "cell_type": "markdown",
   "metadata": {},
   "source": [
    "If you're familiar with web servers at all, you'll recognize that this is in [Common Log Format](https://www.w3.org/Daemon/User/Config/Logging.html#common-logfile-format). The fields are:\n",
    "\n",
    "_remotehost rfc931 authuser [date] \"request\" status bytes_\n",
    "\n",
    "| field         | meaning                                                                |\n",
    "| ------------- | ---------------------------------------------------------------------- |\n",
    "| _remotehost_  | Remote hostname (or IP number if DNS hostname is not available).       |\n",
    "| _rfc931_      | The remote logname of the user. We don't really care about this field. |\n",
    "| _authuser_    | The username of the remote user, as authenticated by the HTTP server.  |\n",
    "| _[date]_      | The date and time of the request.                                      |\n",
    "| _\"request\"_   | The request, exactly as it came from the browser or client.            |\n",
    "| _status_      | The HTTP status code the server sent back to the client.               |\n",
    "| _bytes_       | The number of bytes (`Content-Length`) transferred to the client.      |\n",
    "\n"
   ]
  },
  {
   "cell_type": "code",
   "execution_count": 8,
   "metadata": {
    "collapsed": true
   },
   "outputs": [],
   "source": [
    "value = r\"\"\"uplherc.upl.com - - [01/Aug/1995:00:00:08 -0400] \"GET /images/ksclogo-medium.gif HTTP/1.0\" 304 0   \"\"\"\n",
    "\n",
    "pattern = r\"\"\n",
    "\n",
    "# write your code here to extract the value of all the fields:\n",
    "#    * remotehost\n",
    "#    * [date]\n",
    "#    * \"request\"\n",
    "#    * status\n",
    "#    * bytes\n",
    "\n",
    "def replace_month_string_by_numbers( string_date ):\n",
    "    #write code here to replace Month of the day from string to numbers.\n",
    "    # input : 01/Aug/1995\n",
    "    # output: 01/08/1995\n",
    "\n",
    "    \n",
    "    "
   ]
  },
  {
   "cell_type": "code",
   "execution_count": 27,
   "metadata": {},
   "outputs": [
    {
     "data": {
      "text/plain": [
       "'line = \"01/Aug/1995:00:00:08 -0400\"\\ns_date = StandardizeDate( line )\\nprint( s_date )'"
      ]
     },
     "execution_count": 27,
     "metadata": {},
     "output_type": "execute_result"
    }
   ],
   "source": [
    "\n",
    "import datetime\n",
    "import re\n",
    "import sys\n",
    "\n",
    "\n",
    "# For extracting the date and request info from the request.\n",
    "pattern = re.compile( r\"\"\"^.*\\[(.*)\\] \\\"GET .*$\"\"\" )\n",
    "\n",
    "def StandardizeDate( date_time_str ):\n",
    "    #print ( 'begin ...' )\n",
    "    \n",
    "    dt_str, tz = date_time_str.split(\" \")\n",
    "    #a = date_time_str.split(\" \")\n",
    "    #print ( a )\n",
    "    \n",
    "    dt = datetime.datetime.strptime(dt_str, \"%d/%b/%Y:%H:%M:%S\")\n",
    "\n",
    "    if tz == \"-0500\":  # East Coast\n",
    "        dt += datetime.timedelta(hours=5)\n",
    "    else: # Pacific\n",
    "        dt += datetime.timedelta(hours=8)\n",
    "\n",
    "    #s_date = dt.strftime(\"%d/%b/%Y:%H:%M:%S\")\n",
    "    s_date = dt.strftime(\"%d/%m/%Y:%H:%M:%S\")\n",
    "\n",
    "    return s_date\n",
    "\n",
    "\n",
    "\"\"\"line = \"01/Aug/1995:00:00:08 -0400\"\n",
    "s_date = StandardizeDate( line )\n",
    "print( s_date )\"\"\"\n"
   ]
  },
  {
   "cell_type": "code",
   "execution_count": 28,
   "metadata": {},
   "outputs": [
    {
     "name": "stdout",
     "output_type": "stream",
     "text": [
      "We have matches\n",
      "uplherc.upl.com - - [01/08/1995:08:00:08] \"GET /images/ksclogo-medium.gif HTTP/1.0\" 304 0   \n"
     ]
    }
   ],
   "source": [
    "line = r\"\"\"uplherc.upl.com - - [01/Aug/1995:00:00:08 -0400] \"GET /images/ksclogo-medium.gif HTTP/1.0\" 304 0   \"\"\"\n",
    "\n",
    "res = pattern.match(line)\n",
    "if res:\n",
    "    print( 'We have matches' )\n",
    "    date_str = res.group(1)\n",
    "    line_2 = line.replace( date_str, StandardizeDate(date_str) )\n",
    "    print ( line_2 )\n",
    "else:\n",
    "    print( 'No matches found' )\n"
   ]
  },
  {
   "cell_type": "markdown",
   "metadata": {},
   "source": [
    "### replace s pattern"
   ]
  },
  {
   "cell_type": "code",
   "execution_count": 2,
   "metadata": {},
   "outputs": [
    {
     "name": "stdout",
     "output_type": "stream",
     "text": [
      "static PyObject*\n",
      "py_myfunc(void)\n",
      "{\n"
     ]
    }
   ],
   "source": [
    "import re\n",
    "\n",
    "pattern =  r'def\\s+([a-zA-Z_][a-zA-Z_0-9]*)\\s*\\(\\s*\\):' \n",
    "repl    = r'static PyObject*\\npy_\\1(void)\\n{'\n",
    "my_str  = 'def myfunc():'\n",
    "s       = re.sub( pattern, repl, my_str )\n",
    "\n",
    "print( s )"
   ]
  },
  {
   "cell_type": "markdown",
   "metadata": {
    "collapsed": true
   },
   "source": [
    "#### replace delete a pattern"
   ]
  },
  {
   "cell_type": "code",
   "execution_count": 4,
   "metadata": {},
   "outputs": [
    {
     "name": "stdout",
     "output_type": "stream",
     "text": [
      "\n",
      "About Alluxio And The Course\n",
      "\n",
      "About The Author\n",
      "\n",
      "Using Alluxio Locally\n",
      "Downloading Alluxio\n",
      "\n",
      "Starting The System Locally\n",
      "\n",
      "Interacting Via The Shell\n",
      "\n",
      "Browsing The Web UI\n",
      "\n",
      "Examples With Alluxio\n",
      "Setting Up Alluxio With Spark And S3\n",
      "\n",
      "Running Spark on Alluxio with S3\n",
      "\n",
      "Using Alluxio With Unified Namespace\n",
      "\n",
      "Deploying Alluxio On A Cluster\n",
      "Deploying Alluxio In AWS\n",
      "\n",
      "Conclusion\n",
      "Contributing To The Project And Conclusion\n",
      "\n",
      "\n",
      "\n"
     ]
    }
   ],
   "source": [
    "import re\n",
    "\n",
    "pattern =  r'\\d{2}:\\d{2}:\\d{2}' \n",
    "repl    = r''\n",
    "my_str  = r'''\n",
    "About Alluxio And The Course\n",
    "00:03:38\n",
    "About The Author\n",
    "00:01:24\n",
    "Using Alluxio Locally\n",
    "Downloading Alluxio\n",
    "00:03:03\n",
    "Starting The System Locally\n",
    "00:05:09\n",
    "Interacting Via The Shell\n",
    "00:02:45\n",
    "Browsing The Web UI\n",
    "00:03:53\n",
    "Examples With Alluxio\n",
    "Setting Up Alluxio With Spark And S3\n",
    "00:06:15\n",
    "Running Spark on Alluxio with S3\n",
    "00:05:29\n",
    "Using Alluxio With Unified Namespace\n",
    "00:06:05\n",
    "Deploying Alluxio On A Cluster\n",
    "Deploying Alluxio In AWS\n",
    "00:07:49\n",
    "Conclusion\n",
    "Contributing To The Project And Conclusion\n",
    "00:03:52\n",
    "\n",
    "'''\n",
    "s       = re.sub( pattern, repl, my_str )\n",
    "\n",
    "print( s )"
   ]
  },
  {
   "cell_type": "markdown",
   "metadata": {},
   "source": [
    "#### delete new line - convert to one row string"
   ]
  },
  {
   "cell_type": "code",
   "execution_count": 1,
   "metadata": {},
   "outputs": [],
   "source": [
    "import re\n",
    "\n",
    "pattern =  r'\\n' \n",
    "repl    = r''"
   ]
  },
  {
   "cell_type": "code",
   "execution_count": 6,
   "metadata": {},
   "outputs": [],
   "source": [
    "my_str  = r'''\n",
    "<book id=\"bk112\">\n",
    "  <author>Galos, Mike</author>\n",
    "  <title>Visual Studio 7: A Comprehensive Guide</title>\n",
    "  <genre>Computer</genre>\n",
    "  <price>49.95</price>\n",
    "  <publish_date>2001-04-16</publish_date>\n",
    "  <description>\n",
    "    Microsoft Visual Studio 7 is explored in depth,\n",
    "    looking at how Visual Basic, Visual C++, C#, and ASP+ are\n",
    "    integrated into a comprehensive development\n",
    "    environment.\n",
    "  </description>\n",
    "</book>\n",
    "'''"
   ]
  },
  {
   "cell_type": "code",
   "execution_count": 7,
   "metadata": {},
   "outputs": [
    {
     "name": "stdout",
     "output_type": "stream",
     "text": [
      "<book id=\"bk112\">  <author>Galos, Mike</author>  <title>Visual Studio 7: A Comprehensive Guide</title>  <genre>Computer</genre>  <price>49.95</price>  <publish_date>2001-04-16</publish_date>  <description>    Microsoft Visual Studio 7 is explored in depth,    looking at how Visual Basic, Visual C++, C#, and ASP+ are    integrated into a comprehensive development    environment.  </description></book>\n"
     ]
    }
   ],
   "source": [
    "s       = re.sub( pattern, repl, my_str )\n",
    "\n",
    "print( s )"
   ]
  },
  {
   "cell_type": "markdown",
   "metadata": {},
   "source": [
    "<a id = 'date_and_time' ></a>"
   ]
  },
  {
   "cell_type": "markdown",
   "metadata": {},
   "source": [
    "## Date and Time"
   ]
  },
  {
   "cell_type": "markdown",
   "metadata": {},
   "source": [
    "get date and time"
   ]
  },
  {
   "cell_type": "code",
   "execution_count": 20,
   "metadata": {},
   "outputs": [
    {
     "name": "stdout",
     "output_type": "stream",
     "text": [
      "2017-06-07 16:06:38.296000\n",
      "year: 2017, month: 06, day: 07, hours: 16, minutes: 06,  seconds: 38\n"
     ]
    }
   ],
   "source": [
    "import datetime\n",
    "\n",
    "curtime  = datetime.datetime.now()\n",
    "\n",
    "time_rg  = curtime.strftime( 'year: %Y, month: %m, day: %d, hours: %H, minutes: %M,  seconds: %S' )\n",
    "\n",
    "print curtime\n",
    "print time_rg"
   ]
  },
  {
   "cell_type": "markdown",
   "metadata": {},
   "source": [
    "create a file name with datetime stamp"
   ]
  },
  {
   "cell_type": "code",
   "execution_count": 21,
   "metadata": {},
   "outputs": [
    {
     "name": "stdout",
     "output_type": "stream",
     "text": [
      "<class 'datetime.datetime'>\n",
      "flowers_20171221_164405.png\n"
     ]
    }
   ],
   "source": [
    "import datetime\n",
    "\n",
    "curtime  = datetime.datetime.now()\n",
    "\n",
    "# format datetime in year month day hours minutes seconds\n",
    "time_rg  = curtime.strftime( '%Y%m%d_%H%M%S' )\n",
    "fileName = 'flowers_' + time_rg + '.png'\n",
    "\n",
    "print( type( curtime ) )\n",
    "print( fileName )"
   ]
  },
  {
   "cell_type": "code",
   "execution_count": 24,
   "metadata": {},
   "outputs": [
    {
     "name": "stdout",
     "output_type": "stream",
     "text": [
      "<class 'datetime.datetime'>\n",
      "flowers_20170115_030709.png\n"
     ]
    }
   ],
   "source": [
    "import datetime\n",
    "\n",
    "curtime  = datetime.datetime(year= 2017, month= 1, day = 15, hour= 3, minute= 7, second= 9 )\n",
    "\n",
    "# format datetime in year month day hours minutes seconds\n",
    "time_rg  = curtime.strftime( '%Y%m%d_%H%M%S' )\n",
    "fileName = 'flowers_' + time_rg + '.png'\n",
    "\n",
    "print( type( curtime ) )\n",
    "print( fileName )"
   ]
  },
  {
   "cell_type": "markdown",
   "metadata": {},
   "source": [
    "### Calculate days to my next birthday"
   ]
  },
  {
   "cell_type": "code",
   "execution_count": 49,
   "metadata": {},
   "outputs": [
    {
     "name": "stdout",
     "output_type": "stream",
     "text": [
      "delta in days: 268 days, 0:00:00\n",
      "years : 0\n",
      "months: 8.933333333333334\n",
      "days  : 28\n"
     ]
    }
   ],
   "source": [
    "import time\n",
    "import datetime\n",
    "from datetime import date\n",
    "\n",
    "#my_birth_day = date( 2018, 6, 20 )\n",
    "my_birth_day = date( 2018, 5, 20 )\n",
    "\n",
    "today        = date.today()\n",
    "\n",
    "delta        = my_birth_day - today\n",
    "\n",
    "print( 'delta in days: {0}'.format( delta ) )\n",
    "years = int( delta.days / 365 )\n",
    "\n",
    "m = int( delta.days % 365 )\n",
    "#print ( 'm: {0}'.format( m )  )\n",
    "months = m / 30 \n",
    "d      = m % 30\n",
    "\n",
    "\n",
    "print( 'years : {0}'.format( years  ) )\n",
    "print( 'months: {0}'.format( months ) )\n",
    "print( 'days  : {0}'.format( d      ) )\n"
   ]
  },
  {
   "cell_type": "markdown",
   "metadata": {},
   "source": [
    "<a id = 'processing_time' ></a>"
   ]
  },
  {
   "cell_type": "markdown",
   "metadata": {},
   "source": [
    "## Processing time"
   ]
  },
  {
   "cell_type": "markdown",
   "metadata": {},
   "source": [
    "measure processing time of my script"
   ]
  },
  {
   "cell_type": "code",
   "execution_count": 19,
   "metadata": {},
   "outputs": [
    {
     "name": "stdout",
     "output_type": "stream",
     "text": [
      "process_time: 3.0000112056732178 seconds\n",
      "timedelta: 0:00:03.000011\n"
     ]
    }
   ],
   "source": [
    "import datetime\n",
    "import time\n",
    "\n",
    "start_time   = time.time()\n",
    "\n",
    "# execute my process ...\n",
    "time.sleep(3) # delays for 3 seconds\n",
    "\n",
    "end_time     = time.time()\n",
    "process_time = end_time - start_time\n",
    "\n",
    "print ( 'process_time: {0} seconds'.format( process_time ) )\n",
    "\n",
    "print( 'timedelta: {0}'.format( datetime.timedelta( seconds = process_time ) ) )\n",
    "  \n",
    "\n",
    "# format the process time in Hours Minutes Seconds\n",
    "#timeHMS     = \"*{:0>30}*\".format(datetime.timedelta( seconds = process_time ))\n",
    "#timeHMS     = \"*{:<30}*\".format(datetime.timedelta( seconds = process_time ))\n",
    "\n",
    "#print ( timeHMS )\n",
    "#print( 'the time to process my script was {0} (hours:minutes:seconds)'.format( timeHMS ) )"
   ]
  },
  {
   "cell_type": "markdown",
   "metadata": {},
   "source": [
    "#### substract two datetime objects"
   ]
  },
  {
   "cell_type": "code",
   "execution_count": 3,
   "metadata": {},
   "outputs": [
    {
     "name": "stdout",
     "output_type": "stream",
     "text": [
      "process_time: 0:00:03.003409 seconds\n"
     ]
    }
   ],
   "source": [
    "import datetime\n",
    "import time\n",
    "\n",
    "start_time   = datetime.datetime.now()\n",
    "\n",
    "# execute my process ...\n",
    "time.sleep(3) # delays for 3 seconds\n",
    "\n",
    "end_time     = datetime.datetime.now()\n",
    "process_time = end_time - start_time\n",
    "\n",
    "print ( 'process_time: {0} seconds'.format( process_time ) )\n",
    "\n",
    "\n",
    "#print( 'timedelta: {0}'.format( datetime.timedelta( seconds = process_time ) ) )\n",
    "  "
   ]
  },
  {
   "cell_type": "markdown",
   "metadata": {},
   "source": [
    "<a id = 'timedelta_pretty_print' ></a>"
   ]
  },
  {
   "cell_type": "markdown",
   "metadata": {},
   "source": [
    "#### Time Delta Pretty print"
   ]
  },
  {
   "cell_type": "code",
   "execution_count": 15,
   "metadata": {
    "collapsed": true
   },
   "outputs": [],
   "source": [
    "def timedelta_pretty_print( start_time, end_time ):\n",
    "    delay = datetime.timedelta(seconds=( end_time - start_time ))\n",
    "    if (delay.days > 0):\n",
    "        out = str(delay).replace(\" days, \", \":\")\n",
    "    else:\n",
    "        out = \"0:\" + str(delay)\n",
    "    outAr = out.split(':')\n",
    "    outAr = [\"%02d\" % (int(float(x))) for x in outAr]\n",
    "    out   = \":\".join(outAr)\n",
    "    return out"
   ]
  },
  {
   "cell_type": "code",
   "execution_count": 18,
   "metadata": {},
   "outputs": [
    {
     "name": "stdout",
     "output_type": "stream",
     "text": [
      "process time (dd:HH:MM:SS) 00:00:00:03\n"
     ]
    }
   ],
   "source": [
    "start_time   = time.time()\n",
    "time.sleep(3) # delays for 3 seconds\n",
    "end_time     = time.time()\n",
    "\n",
    "s = timedelta_pretty_print( start_time, end_time )\n",
    "print( 'process time (dd:HH:MM:SS) {0}'.format( s ) )"
   ]
  },
  {
   "cell_type": "code",
   "execution_count": 11,
   "metadata": {
    "collapsed": true
   },
   "outputs": [],
   "source": [
    "import datetime\n",
    "import time\n",
    "\n",
    "def timedelta_pretty( process_time, start_time = None, end_time = None ):\n",
    "    \n",
    "    if start_time != None and end_time != None:\n",
    "        process_time = datetime.timedelta(seconds=( end_time - start_time))\n",
    "    \n",
    "    print( 'param process_time {0}'.format( process_time ) )\n",
    "    \n",
    "    if (process_time.days > 0):\n",
    "        out = str( process_time ).replace( \" days, \", \":\" )\n",
    "    else:\n",
    "        out = \"0:\" + str( process_time )\n",
    "    \n",
    "    print( 'out {0}'.format( out ) )\n",
    "    \n",
    "    outAr = out.split(':')\n",
    "    outAr = [\"%02d\" % (int(float(x))) for x in outAr]\n",
    "    out   = \":\".join(outAr)\n",
    "    return out"
   ]
  },
  {
   "cell_type": "code",
   "execution_count": 13,
   "metadata": {},
   "outputs": [
    {
     "name": "stdout",
     "output_type": "stream",
     "text": [
      "11:23:20\n",
      "param process_time 11:23:20\n",
      "out 0:11:23:20\n",
      "process time (dd:HH:MM:SS) 00:11:23:20\n"
     ]
    }
   ],
   "source": [
    "process_time = datetime.timedelta(seconds=41000)\n",
    "\n",
    "print( process_time )\n",
    "\n",
    "s = timedelta_pretty( process_time )\n",
    "print( 'process time (dd:HH:MM:SS) {0}'.format( s ) )\n"
   ]
  },
  {
   "cell_type": "markdown",
   "metadata": {},
   "source": [
    "<a id = 'file_names_and_paths' ></a>"
   ]
  },
  {
   "cell_type": "markdown",
   "metadata": {},
   "source": [
    "## File names and paths"
   ]
  },
  {
   "cell_type": "markdown",
   "metadata": {},
   "source": [
    "### where is stored this python notebook ipynb?"
   ]
  },
  {
   "cell_type": "markdown",
   "metadata": {},
   "source": [
    "#### extract file name and extension from path"
   ]
  },
  {
   "cell_type": "code",
   "execution_count": 2,
   "metadata": {},
   "outputs": [
    {
     "name": "stdout",
     "output_type": "stream",
     "text": [
      "file name: /path/to/myDir/myFriendList\n",
      "extension: .txt\n",
      "file name: a\n",
      "extension: .png\n"
     ]
    }
   ],
   "source": [
    "import os\n",
    "\n",
    "filename, ext = os.path.splitext('/path/to/myDir/myFriendList.txt')\n",
    "print 'file name: {0}'.format( filename )\n",
    "print 'extension: {0}'.format( ext      )\n",
    "\n",
    "pathSegmented, ext = os.path.splitext('a.png')\n",
    "print 'file name: {0}'.format( pathSegmented )\n",
    "print 'extension: {0}'.format( ext      )"
   ]
  },
  {
   "cell_type": "markdown",
   "metadata": {},
   "source": [
    "#### extract last dir from path"
   ]
  },
  {
   "cell_type": "code",
   "execution_count": 1,
   "metadata": {},
   "outputs": [
    {
     "name": "stdout",
     "output_type": "stream",
     "text": [
      "d1: C:/aat/pics/animals/insects\n",
      "d2: insects\n",
      "d3: insects\n"
     ]
    }
   ],
   "source": [
    "import os\n",
    "fileName = 'C:/aat/pics/animals/insects/hornet.jpg'\n",
    "\n",
    "d1 = os.path.dirname( fileName )\n",
    "d2 = os.path.basename( d1 ) \n",
    "d3 = os.path.split   ( d1 )[1]\n",
    "\n",
    "\n",
    "print( 'd1: {0}'.format( d1 ) )\n",
    "print( 'd2: {0}'.format( d2 ) )\n",
    "print( 'd3: {0}'.format( d3 ) )"
   ]
  },
  {
   "cell_type": "code",
   "execution_count": 2,
   "metadata": {},
   "outputs": [
    {
     "name": "stdout",
     "output_type": "stream",
     "text": [
      "('C:/aat/pics/animals', 'insects')\n"
     ]
    }
   ],
   "source": [
    "print ( os.path.split   ( d1 ) )"
   ]
  },
  {
   "cell_type": "markdown",
   "metadata": {},
   "source": [
    "#### concatenate directory and file name to create path"
   ]
  },
  {
   "cell_type": "code",
   "execution_count": 14,
   "metadata": {},
   "outputs": [
    {
     "data": {
      "text/plain": [
       "'/aat/pics/animals/hornet2.png'"
      ]
     },
     "execution_count": 14,
     "metadata": {},
     "output_type": "execute_result"
    }
   ],
   "source": [
    "from os.path         import join\n",
    "myPath = join( '/aat/pics/animals/', 'hornet2.png')\n",
    "myPath"
   ]
  },
  {
   "cell_type": "markdown",
   "metadata": {},
   "source": [
    "#### normalize paths"
   ]
  },
  {
   "cell_type": "code",
   "execution_count": 5,
   "metadata": {},
   "outputs": [
    {
     "name": "stdout",
     "output_type": "stream",
     "text": [
      "\\aat\\pics\\animals\\insects\n"
     ]
    }
   ],
   "source": [
    "myDir = os.path.normpath( '/aat/pics/animals\\\\insects' )\n",
    "print( myDir )"
   ]
  },
  {
   "cell_type": "markdown",
   "metadata": {},
   "source": [
    "#### get a list of files in a path"
   ]
  },
  {
   "cell_type": "code",
   "execution_count": 9,
   "metadata": {},
   "outputs": [
    {
     "data": {
      "text/plain": [
       "['box.png',\n",
       " 'desktop.ini',\n",
       " 'rectangles.png',\n",
       " 'rotated.png',\n",
       " 'shapes.png',\n",
       " 'shapes2.png',\n",
       " 'shapes_01.png',\n",
       " 'shapes_02.png',\n",
       " 'sudoku-original.jpg']"
      ]
     },
     "execution_count": 9,
     "metadata": {},
     "output_type": "execute_result"
    }
   ],
   "source": [
    "from os import listdir\n",
    "from os.path import isfile, join\n",
    "\n",
    "_dir = 'C:/aat/pics/'\n",
    "\n",
    "onlyfiles = [f for f in listdir( _dir ) if isfile(join( _dir, f ))]            \n",
    "onlyfiles"
   ]
  },
  {
   "cell_type": "markdown",
   "metadata": {},
   "source": [
    "#### get a list of directories in a path"
   ]
  },
  {
   "cell_type": "code",
   "execution_count": 2,
   "metadata": {},
   "outputs": [
    {
     "data": {
      "text/plain": [
       "['animals', 'sharks']"
      ]
     },
     "execution_count": 2,
     "metadata": {},
     "output_type": "execute_result"
    }
   ],
   "source": [
    "from os import listdir\n",
    "from os.path import isdir, join\n",
    "\n",
    "_dir = 'C:/aat/Pictures/'\n",
    "\n",
    "only_dirs = [f for f in listdir( _dir ) if isdir(join( _dir, f ))]            \n",
    "only_dirs"
   ]
  },
  {
   "cell_type": "markdown",
   "metadata": {},
   "source": [
    "#### get a list of files in a path with glob (long path)"
   ]
  },
  {
   "cell_type": "code",
   "execution_count": null,
   "metadata": {},
   "outputs": [],
   "source": [
    "from glob import glob\n",
    "files = glob('C:/tmp/Pictures/sharks/*')\n",
    "for i in files:\n",
    "    print( i )\n"
   ]
  },
  {
   "cell_type": "markdown",
   "metadata": {},
   "source": [
    "#### get a list of files in a path (long path)"
   ]
  },
  {
   "cell_type": "code",
   "execution_count": null,
   "metadata": {},
   "outputs": [],
   "source": [
    "from os import listdir\n",
    "from os.path import isfile, join\n",
    "\n",
    "_dir = 'C:/tmp/Pictures'\n",
    "\n",
    "onlyfiles = [join( _dir, f ) for f in listdir( _dir ) if isfile(join( _dir, f ))]            \n",
    "#print 'onlyfiles: {0}'.format( onlyfiles )\n",
    "for i in onlyfiles:\n",
    "    print( i )"
   ]
  },
  {
   "cell_type": "markdown",
   "metadata": {},
   "source": [
    "### list all the files - navigating recursively starting in a mother node"
   ]
  },
  {
   "cell_type": "code",
   "execution_count": null,
   "metadata": {},
   "outputs": [],
   "source": [
    "import os\n",
    "\n",
    "_dir = 'C:/tmp/Pictures/'\n",
    "\n",
    "for root, dirs, files in os.walk( _dir, topdown=False):\n",
    "    for name in files:\n",
    "        print(os.path.join(root, name))\n",
    "    for name in dirs:\n",
    "        print(os.path.join(root, name))"
   ]
  },
  {
   "cell_type": "markdown",
   "metadata": {},
   "source": [
    "<a id = 'copy_file' ></a>"
   ]
  },
  {
   "cell_type": "markdown",
   "metadata": {},
   "source": [
    "### copy a file"
   ]
  },
  {
   "cell_type": "code",
   "execution_count": null,
   "metadata": {
    "collapsed": true
   },
   "outputs": [],
   "source": [
    "import os\n",
    "import sys\n",
    "from os.path import join\n",
    "from shutil import copyfile\n",
    "\n",
    "\n",
    "copyfile( 'mountains.png', 'mountains_copy.png' )\n",
    "        \n",
    "        "
   ]
  },
  {
   "cell_type": "code",
   "execution_count": null,
   "metadata": {},
   "outputs": [],
   "source": [
    "import os\n",
    "import shutil\n",
    "from shutil import copyfile\n",
    "import tempfile\n",
    "\n",
    "filename1 = tempfile.mktemp (\"C:/aat/info_sources/python_mini_workshop/.txt\")\n",
    "\n",
    "print( 'filename1' )\n",
    "print( filename1 )\n",
    "\n",
    "\"\"\"\n",
    "open (filename1, \"a\").close ()\n",
    "filename2 = filename1 + \".testcopy\"\n",
    "print filename1, \"=>\", filename2\n",
    "\n",
    "shutil.copy (filename1, filename2)\n",
    "\n",
    "if os.path.isfile (filename2): print \"Success\" \n",
    "\"\"\""
   ]
  },
  {
   "cell_type": "markdown",
   "metadata": {},
   "source": [
    "<a id = 'txt_files' ></a>"
   ]
  },
  {
   "cell_type": "markdown",
   "metadata": {},
   "source": [
    "## references"
   ]
  },
  {
   "cell_type": "markdown",
   "metadata": {},
   "source": [
    "* https://docs.python.org/2/tutorial/\n",
    "* https://regexone.com/\n",
    "* https://regexone.com/references/python"
   ]
  }
 ],
 "metadata": {
  "kernelspec": {
   "display_name": "Python 3",
   "language": "python",
   "name": "python3"
  },
  "language_info": {
   "codemirror_mode": {
    "name": "ipython",
    "version": 3
   },
   "file_extension": ".py",
   "mimetype": "text/x-python",
   "name": "python",
   "nbconvert_exporter": "python",
   "pygments_lexer": "ipython3",
   "version": "3.6.1"
  }
 },
 "nbformat": 4,
 "nbformat_minor": 1
}
