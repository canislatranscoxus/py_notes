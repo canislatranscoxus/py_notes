{
 "cells": [
  {
   "cell_type": "markdown",
   "metadata": {},
   "source": [
    "| | |\n",
    "|-|-|\n",
    "| ![Python Logo](http://spark-mooc.github.io/web-assets/images/python-logo-master-v3-TM-flattened_small.png) | <img src=\"https://cdn.worldvectorlogo.com/logos/microsoft-azure-3.svg\" alt=\"Drawing\" style=\"width: 100px;\"/> |\n",
    "\n",
    "\n",
    "# My python notes 6\n",
    "## pyodbc Connection from python to microsoft azure"
   ]
  },
  {
   "cell_type": "markdown",
   "metadata": {},
   "source": [
    "\n",
    "\n",
    "This notebook shows the steps to connect to a microsoft azure SQL Server database using pyodbc from python. Here we use\n",
    "\n",
    "* linux Red Hat Enterprise Linux Server release 7.3,\n",
    "* pyodbc ver 13\n",
    "* python 2.7"
   ]
  },
  {
   "cell_type": "markdown",
   "metadata": {},
   "source": [
    "#### prereqisites:\n",
    "* have a SQL Server running\n",
    "* a linux machine with python"
   ]
  },
  {
   "cell_type": "markdown",
   "metadata": {},
   "source": [
    "## Installation steps:\n",
    "    \n",
    "in the linux machine\n",
    "* install Microsoft ODBC Driver 11, 13\n",
    "* install pyodbc\n",
    "* configure /etc/odbcinst.ini"
   ]
  },
  {
   "cell_type": "markdown",
   "metadata": {},
   "source": [
    "#### install pyodbc driver"
   ]
  },
  {
   "cell_type": "code",
   "execution_count": null,
   "metadata": {
    "collapsed": true
   },
   "outputs": [],
   "source": [
    "sudo su \n",
    "wget https://gallery.technet.microsoft.com/ODBC-Driver-13-for-SQL-8d067754/file/153653/4/install.sh \n",
    "sh install.sh "
   ]
  },
  {
   "cell_type": "markdown",
   "metadata": {},
   "source": [
    "#### install pyobdc\n",
    "\n",
    "In the linux console use pip to install"
   ]
  },
  {
   "cell_type": "code",
   "execution_count": null,
   "metadata": {
    "collapsed": true
   },
   "outputs": [],
   "source": [
    "pip install pyodbc"
   ]
  },
  {
   "cell_type": "markdown",
   "metadata": {},
   "source": [
    "#### /etc/odbcinst.ini\n",
    "In this file you must have a section pointing to the driver, as following"
   ]
  },
  {
   "cell_type": "code",
   "execution_count": null,
   "metadata": {
    "collapsed": true
   },
   "outputs": [],
   "source": [
    "[ODBC Driver 13 for SQL Server]\n",
    "Description=Microsoft ODBC Driver 13 for SQL Server\n",
    "Driver=/opt/microsoft/msodbcsql/lib64/libmsodbcsql-13.1.so.8.0"
   ]
  },
  {
   "cell_type": "markdown",
   "metadata": {},
   "source": [
    "## test conectivity \n",
    "from linux machine to MS SQL Server"
   ]
  },
  {
   "cell_type": "markdown",
   "metadata": {},
   "source": [
    "#### for SQL Server Authentication"
   ]
  },
  {
   "cell_type": "code",
   "execution_count": null,
   "metadata": {
    "collapsed": true
   },
   "outputs": [],
   "source": [
    "sqlcmd -S tcp:MySqlDw.database.windows.net -d Adventure_Works -U myuser -P myP@ssword \n",
    "sqlcmd -S MySqlDw.database.windows.net -d Adventure_Works -U myuser -P myP@ssword "
   ]
  },
  {
   "cell_type": "markdown",
   "metadata": {},
   "source": [
    "#### for Active Directory Authentication"
   ]
  },
  {
   "cell_type": "code",
   "execution_count": null,
   "metadata": {
    "collapsed": true
   },
   "outputs": [],
   "source": [
    "sqlcmd -S tcp:MySqlDw.database.windows.net -d Adventure_Works -U myuser -P myP@ssword -G"
   ]
  },
  {
   "cell_type": "markdown",
   "metadata": {},
   "source": [
    "#### if you have this error \n",
    "\n",
    "\"sqlcmd: Error: Microsoft ODBC Driver 13 for SQL Server : setting quoted_identifier to off is not supported ..\"\n",
    "\n",
    "then, append the option -I to your command, just as below"
   ]
  },
  {
   "cell_type": "code",
   "execution_count": null,
   "metadata": {
    "collapsed": true
   },
   "outputs": [],
   "source": [
    "sqlcmd -S tcp:myServer-sqldw-server.database.windows.net  -d myDataBAse -U myUser@myServer.com  -P myPassword -G -I"
   ]
  },
  {
   "cell_type": "markdown",
   "metadata": {},
   "source": [
    "Python SQL Driver - pyodbc"
   ]
  },
  {
   "cell_type": "markdown",
   "metadata": {},
   "source": [
    "## python script"
   ]
  },
  {
   "cell_type": "markdown",
   "metadata": {},
   "source": [
    "in your linux machine, create a python script. ie: aip_exploration.py"
   ]
  },
  {
   "cell_type": "code",
   "execution_count": null,
   "metadata": {
    "collapsed": true
   },
   "outputs": [],
   "source": [
    "import pyodbc\n",
    "\n",
    "#set parameters\n",
    "db = {\n",
    "    'driver'   : '{ODBC Driver 13 for SQL Server}',\n",
    "    'server'   : 'tcp:art_server.database.windows.net',\n",
    "    'database' : 'my_database',\n",
    "    'username' : 'monkey1@art.demo.com',\n",
    "    'password' : '123'\n",
    "    }\n",
    "\n",
    "# create the connection string\n",
    "conn_string = r\"\"\"DRIVER={driver};\n",
    "    PORT=1433;\n",
    "    Authentication=ActiveDirectoryPassword;\n",
    "    SERVER={server};\n",
    "    DATABASE={database};\n",
    "    UID={username};\n",
    "    PWD={password}    \n",
    "    \"\"\".format( **db )\n",
    "\n",
    "# connect to data base\n",
    "conn = pyodbc.connect( conn_string )\n",
    "\n",
    "# create a cursor\n",
    "cursor = cnxn.cursor()\n",
    "\n",
    "# execute a sql query\n",
    "cursor.execute( \"SELECT TOP 10 * FROM dbo.my_table \" )\n",
    "\n",
    "# loop through the rows\n",
    "row = cursor.fetchone()\n",
    "while row:\n",
    "    print( str(row[0])  )\n",
    "    row = cursor.fetchone()\n",
    "\n",
    "print( '\\n ...end.' )"
   ]
  },
  {
   "cell_type": "markdown",
   "metadata": {},
   "source": [
    "## references"
   ]
  },
  {
   "cell_type": "markdown",
   "metadata": {},
   "source": [
    "Python SQL Driver - pyodbc\n",
    "* https://docs.microsoft.com/en-us/sql/connect/python/pyodbc/python-sql-driver-pyodbc\n",
    "\n",
    "\n",
    "Step 1: Configure development environment for pyodbc Python development\n",
    "* https://docs.microsoft.com/en-us/sql/connect/python/pyodbc/step-1-configure-development-environment-for-pyodbc-python-development\n",
    "\n",
    "Connect to SQL Data Warehouse with sqlcmd\n",
    "* https://docs.microsoft.com/en-us/azure/sql-data-warehouse/sql-data-warehouse-get-started-connect-sqlcmd"
   ]
  }
 ],
 "metadata": {
  "kernelspec": {
   "display_name": "Python 3",
   "language": "python",
   "name": "python3"
  },
  "language_info": {
   "codemirror_mode": {
    "name": "ipython",
    "version": 3
   },
   "file_extension": ".py",
   "mimetype": "text/x-python",
   "name": "python",
   "nbconvert_exporter": "python",
   "pygments_lexer": "ipython3",
   "version": "3.6.1"
  }
 },
 "nbformat": 4,
 "nbformat_minor": 2
}
