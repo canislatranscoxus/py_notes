{
 "cells": [
  {
   "cell_type": "markdown",
   "metadata": {},
   "source": [
    "![Python Logo](http://spark-mooc.github.io/web-assets/images/python-logo-master-v3-TM-flattened_small.png)\n",
    "# Python notes 1\n"
   ]
  },
  {
   "cell_type": "markdown",
   "metadata": {},
   "source": [
    "this document is a kind of cook notebook with receipts to help you code faster.\n",
    "enjoy it \n",
    ":)"
   ]
  },
  {
   "cell_type": "markdown",
   "metadata": {},
   "source": [
    "## Table of Content\n",
    "\n",
    "* [hello_world](#hello_world)\n",
    "* [strings](#strings)\n",
    "* [basic operands](#basic_operands)\n",
    "* [flow control](#flow_control)\n",
    "* [functions](#functions)\n",
    "* [arguments](#arguments)\n"
   ]
  },
  {
   "cell_type": "code",
   "execution_count": null,
   "metadata": {
    "collapsed": true
   },
   "outputs": [],
   "source": [
    "UNICODE.\n",
    "In python 2 srtings can be ascii or unicode.\n",
    "To "
   ]
  },
  {
   "cell_type": "code",
   "execution_count": null,
   "metadata": {
    "collapsed": true
   },
   "outputs": [],
   "source": [
    "# _*_ coding: utf-8 _*_\n",
    "# In Python 2 you often need the line above at the top of your file\n",
    "#so you can see Unicode characters"
   ]
  },
  {
   "cell_type": "markdown",
   "metadata": {},
   "source": [
    "<a id = 'hello_world'> </a>"
   ]
  },
  {
   "cell_type": "markdown",
   "metadata": {},
   "source": [
    "### hello world"
   ]
  },
  {
   "cell_type": "code",
   "execution_count": 7,
   "metadata": {},
   "outputs": [
    {
     "name": "stdout",
     "output_type": "stream",
     "text": [
      "hello world\n",
      " using double quotes \n"
     ]
    }
   ],
   "source": [
    "# esto es un comentario\n",
    "\n",
    "\"\"\" \n",
    "this is a commentary with many lines\n",
    "line 1\n",
    "line 2\n",
    "\"\"\"\n",
    "\n",
    "\n",
    "print ( 'hello world' )\n",
    "\n",
    "s = \" using double quotes \"\n",
    "\n",
    "print( s )"
   ]
  },
  {
   "cell_type": "markdown",
   "metadata": {},
   "source": [
    "big string"
   ]
  },
  {
   "cell_type": "code",
   "execution_count": 4,
   "metadata": {},
   "outputs": [
    {
     "name": "stdout",
     "output_type": "stream",
     "text": [
      "\n",
      "    hello\n",
      "    my\n",
      "    friend from\n",
      "    north\n",
      "    and\n",
      "    south\n",
      "    \n"
     ]
    }
   ],
   "source": [
    "s = \"\"\"\n",
    "    hello\n",
    "    my\n",
    "    friend from\n",
    "    north\n",
    "    and\n",
    "    south\n",
    "    \"\"\"\n",
    "\n",
    "print( s )"
   ]
  },
  {
   "cell_type": "code",
   "execution_count": 5,
   "metadata": {},
   "outputs": [
    {
     "name": "stdout",
     "output_type": "stream",
     "text": [
      "2.7.13 |Anaconda 4.3.1 (64-bit)| (default, Dec 19 2016, 13:29:36) [MSC v.1500 64 bit (AMD64)]\n"
     ]
    }
   ],
   "source": [
    "import sys\n",
    "print(sys.version)"
   ]
  },
  {
   "cell_type": "markdown",
   "metadata": {},
   "source": [
    "how to write top-down code.\n",
    "Just write the code :)\n"
   ]
  },
  {
   "cell_type": "markdown",
   "metadata": {},
   "source": [
    "<a id = 'basic_operands'> </a>"
   ]
  },
  {
   "cell_type": "markdown",
   "metadata": {},
   "source": [
    "## Basic Operands, + - * /"
   ]
  },
  {
   "cell_type": "code",
   "execution_count": 2,
   "metadata": {},
   "outputs": [
    {
     "name": "stdout",
     "output_type": "stream",
     "text": [
      "a: 5.5\n",
      "b: 4\n",
      "200.0\n",
      "4\n",
      "4\n",
      "3\n"
     ]
    }
   ],
   "source": [
    "import math\n",
    "\n",
    "a = 2 + 3.5\n",
    "print( 'a: {0}'.format( a ) )\n",
    "\n",
    "b = math.ceil( 3.141592 )\n",
    "\n",
    "print ( 'b: {0}'.format( b ) )\n",
    "\n",
    "c = int( b )\n",
    "\n",
    "print( float( 200 ) )\n",
    "\n",
    "print( b )\n",
    "print( c )\n",
    "\n",
    "print( int( 10 // 3 ) )\n"
   ]
  },
  {
   "cell_type": "code",
   "execution_count": 4,
   "metadata": {},
   "outputs": [
    {
     "name": "stdout",
     "output_type": "stream",
     "text": [
      "x: 0.25\n",
      "y: 25\n"
     ]
    }
   ],
   "source": [
    "x = 25 / 100\n",
    "y = 25 % 100\n",
    "print( 'x: {0}'.format( x ) )\n",
    "print( 'y: {0}'.format( y ) )"
   ]
  },
  {
   "cell_type": "code",
   "execution_count": 9,
   "metadata": {},
   "outputs": [
    {
     "name": "stdout",
     "output_type": "stream",
     "text": [
      "10 + 2 = 12\n",
      "10 - 2 = 8\n",
      "10 * 2 = 20\n",
      "10 / 2 = 5\n"
     ]
    }
   ],
   "source": [
    "a = 10\n",
    "b = 2\n",
    "\n",
    "print ( '{0} + {1} = {2}'.format( a, b, a.__add__( b ) ) )\n",
    "print ( '{0} - {1} = {2}'.format( a, b, a.__sub__( b ) ) )\n",
    "print ( '{0} * {1} = {2}'.format( a, b, a.__mul__( b ) ) )\n",
    "print ( '{0} / {1} = {2}'.format( a, b, a.__div__( b ) ) )\n",
    "\n"
   ]
  },
  {
   "cell_type": "markdown",
   "metadata": {},
   "source": [
    "<a id = 'flow_control'> </a>"
   ]
  },
  {
   "cell_type": "markdown",
   "metadata": {},
   "source": [
    "### Flow control"
   ]
  },
  {
   "cell_type": "code",
   "execution_count": 2,
   "metadata": {},
   "outputs": [
    {
     "name": "stdout",
     "output_type": "stream",
     "text": [
      "b is bigger than a\n"
     ]
    }
   ],
   "source": [
    "a = 5\n",
    "b = 1\n",
    "if a > b:\n",
    "   pass\n",
    "else:    \n",
    "   print( 'enter the else' )\n",
    "\n",
    "\n",
    "b = 25\n",
    "\n",
    "\n",
    "if a > b :\n",
    "    print( 'a is bigger than b' )\n",
    "elif a ==b :    \n",
    "    print ( 'they are equal' )\n",
    "else:\n",
    "    print( 'b is bigger than a' )"
   ]
  },
  {
   "cell_type": "code",
   "execution_count": 21,
   "metadata": {},
   "outputs": [
    {
     "name": "stdout",
     "output_type": "stream",
     "text": [
      "you are a kid\n"
     ]
    }
   ],
   "source": [
    "edad = 9\n",
    "\n",
    "if edad > 0 and edad < 4:\n",
    "    print (  'you are a baby' )\n",
    "\n",
    "elif edad >= 4 and edad <= 15:\n",
    "    print( 'you are a kid' )\n",
    "    \n",
    "elif edad > 15 and edad < 40:\n",
    "    \n",
    "    print( 'you are a young' )\n",
    "\n",
    "else:    \n",
    "    print( 'you are a granny' )\n",
    "\n"
   ]
  },
  {
   "cell_type": "code",
   "execution_count": 4,
   "metadata": {},
   "outputs": [
    {
     "name": "stdout",
     "output_type": "stream",
     "text": [
      "1\n",
      "1\n",
      "2\n",
      "3\n",
      "5\n",
      "8\n",
      "13\n",
      "21\n",
      "34\n",
      "55\n",
      "89\n"
     ]
    }
   ],
   "source": [
    "# fibonacci\n",
    "\n",
    "a, b = 0, 1\n",
    "while b < 100:\n",
    "    print b\n",
    "    t = a + b\n",
    "    a = b\n",
    "    b = t\n",
    "    \n"
   ]
  },
  {
   "cell_type": "code",
   "execution_count": 1,
   "metadata": {
    "scrolled": true
   },
   "outputs": [
    {
     "name": "stdout",
     "output_type": "stream",
     "text": [
      "1\n",
      "2\n",
      "3\n",
      "4\n",
      "5\n",
      "6\n",
      "loop has finished\n"
     ]
    }
   ],
   "source": [
    "# repeat until\n",
    "\n",
    "i = 0\n",
    "\n",
    "while True:\n",
    "    i = i + 1\n",
    "    print ( i )\n",
    "    if i > 5:\n",
    "        break\n",
    "\n",
    "        \n",
    "while True:\n",
    "    pass\n",
    "    \n",
    "print( 'loop has finished' )\n"
   ]
  },
  {
   "cell_type": "markdown",
   "metadata": {},
   "source": [
    "#### range, xrange"
   ]
  },
  {
   "cell_type": "code",
   "execution_count": 1,
   "metadata": {},
   "outputs": [
    {
     "ename": "NameError",
     "evalue": "name 'xrange' is not defined",
     "output_type": "error",
     "traceback": [
      "\u001b[1;31m---------------------------------------------------------------------------\u001b[0m",
      "\u001b[1;31mNameError\u001b[0m                                 Traceback (most recent call last)",
      "\u001b[1;32m<ipython-input-1-2da663af96bf>\u001b[0m in \u001b[0;36m<module>\u001b[1;34m()\u001b[0m\n\u001b[0;32m      4\u001b[0m \u001b[1;33m\u001b[0m\u001b[0m\n\u001b[0;32m      5\u001b[0m \u001b[1;31m#range ( start, stop )\u001b[0m\u001b[1;33m\u001b[0m\u001b[1;33m\u001b[0m\u001b[0m\n\u001b[1;32m----> 6\u001b[1;33m \u001b[0mxrange\u001b[0m\u001b[1;33m(\u001b[0m \u001b[0mstart\u001b[0m\u001b[1;33m,\u001b[0m \u001b[0mstop\u001b[0m\u001b[1;33m,\u001b[0m \u001b[0mstep\u001b[0m \u001b[1;33m)\u001b[0m\u001b[1;33m\u001b[0m\u001b[0m\n\u001b[0m",
      "\u001b[1;31mNameError\u001b[0m: name 'xrange' is not defined"
     ]
    }
   ],
   "source": [
    "start = 0\n",
    "stop = 10\n",
    "step = 2\n",
    "\n",
    "#range ( start, stop )\n",
    "xrange( start, stop, step )"
   ]
  },
  {
   "cell_type": "code",
   "execution_count": 14,
   "metadata": {},
   "outputs": [
    {
     "name": "stdout",
     "output_type": "stream",
     "text": [
      "i: 0\n",
      "i: 2\n",
      "i: 4\n",
      "i: 6\n",
      "i: 8\n"
     ]
    }
   ],
   "source": [
    "for i in range( start, stop, step ):\n",
    "    print( 'i: {0}'.format( i ) )"
   ]
  },
  {
   "cell_type": "code",
   "execution_count": 6,
   "metadata": {},
   "outputs": [
    {
     "name": "stdout",
     "output_type": "stream",
     "text": [
      "i: 0\n",
      "i: 2\n",
      "i: 4\n",
      "i: 6\n",
      "i: 8\n",
      "a\n",
      "b\n",
      "c\n"
     ]
    }
   ],
   "source": [
    "for i in xrange( start, stop, step ):\n",
    "    print( 'i: {0}'.format( i ) )\n",
    "\n",
    "    \n",
    "for i in [ 'a', 'b', 'c' ]:\n",
    "    print i"
   ]
  },
  {
   "cell_type": "code",
   "execution_count": 2,
   "metadata": {},
   "outputs": [
    {
     "name": "stdout",
     "output_type": "stream",
     "text": [
      "0\n",
      "2\n",
      "4\n",
      "6\n",
      "8\n"
     ]
    }
   ],
   "source": [
    "start = 0\n",
    "stop  = 10\n",
    "step  = 2\n",
    "\n",
    "for i in range( start, stop, step ):\n",
    "    print( i )"
   ]
  },
  {
   "cell_type": "code",
   "execution_count": 4,
   "metadata": {},
   "outputs": [
    {
     "name": "stdout",
     "output_type": "stream",
     "text": [
      "10\n",
      "8\n",
      "6\n",
      "4\n",
      "2\n"
     ]
    }
   ],
   "source": [
    "start = 10\n",
    "stop  = 0\n",
    "step  = -2\n",
    "\n",
    "for i in range( start, stop, step ):\n",
    "    print( i )"
   ]
  },
  {
   "cell_type": "markdown",
   "metadata": {},
   "source": [
    "<a id = 'strings'> </a>"
   ]
  },
  {
   "cell_type": "markdown",
   "metadata": {},
   "source": [
    "## Strings"
   ]
  },
  {
   "cell_type": "markdown",
   "metadata": {},
   "source": [
    "### Substring"
   ]
  },
  {
   "cell_type": "code",
   "execution_count": 3,
   "metadata": {},
   "outputs": [
    {
     "name": "stdout",
     "output_type": "stream",
     "text": [
      "one char: E\n",
      "left    : wElc\n",
      "right   : land\n"
     ]
    },
    {
     "data": {
      "text/plain": [
       "'wElcome to wonderland'"
      ]
     },
     "execution_count": 3,
     "metadata": {},
     "output_type": "execute_result"
    }
   ],
   "source": [
    "s = 'wElcome to wonderland'\n",
    "\n",
    "one_char = s[1]\n",
    "left     = s[ 0 : 4 ]\n",
    "right    = s[ 17 :   ]\n",
    "\n",
    "print( 'one char: {0}'.format( one_char) )\n",
    "print( 'left    : {0}'.format( left    ) )\n",
    "print( 'right   : {0}'.format( right   ) )\n",
    "s"
   ]
  },
  {
   "cell_type": "markdown",
   "metadata": {},
   "source": [
    "#### from ascii char to code number and viceverse"
   ]
  },
  {
   "cell_type": "code",
   "execution_count": 53,
   "metadata": {},
   "outputs": [
    {
     "name": "stdout",
     "output_type": "stream",
     "text": [
      "ord(c): 65\n",
      "chr( i ): A\n"
     ]
    }
   ],
   "source": [
    "c = 'A'\n",
    "print ( 'ord(c): {0}'.format( ord( c ) ) )\n",
    "\n",
    "i = 65\n",
    "print ( 'chr( i ): {0}'.format( chr( i ) ) )"
   ]
  },
  {
   "cell_type": "code",
   "execution_count": null,
   "metadata": {
    "collapsed": true
   },
   "outputs": [],
   "source": [
    "plain message\n",
    "ABCDE...\n",
    "key = 1\n",
    "\n",
    "encrypted message\n",
    "BCDEF.."
   ]
  },
  {
   "cell_type": "markdown",
   "metadata": {},
   "source": [
    "#### align text"
   ]
  },
  {
   "cell_type": "code",
   "execution_count": 6,
   "metadata": {},
   "outputs": [
    {
     "name": "stdout",
     "output_type": "stream",
     "text": [
      "left aligned                  \n",
      "                 right aligned\n",
      "           centered           \n",
      "***********centered***********\n"
     ]
    }
   ],
   "source": [
    "left = '{:<30}'.format('left aligned')\n",
    "\n",
    "right = '{:>30}'.format('right aligned')\n",
    "\n",
    "c1    = '{:^30}'.format('centered')\n",
    "\n",
    "\n",
    "c2    = '{:*^30}'.format('centered')  # use '*' as a fill char\n",
    "\n",
    "print left\n",
    "print right\n",
    "print c1\n",
    "print c2\n"
   ]
  },
  {
   "cell_type": "markdown",
   "metadata": {},
   "source": [
    "#### trim white spaces"
   ]
  },
  {
   "cell_type": "code",
   "execution_count": 3,
   "metadata": {},
   "outputs": [
    {
     "name": "stdout",
     "output_type": "stream",
     "text": [
      "*to be or not to be ....*\n"
     ]
    }
   ],
   "source": [
    "s = '       to be or not to be ....        '\n",
    "a = s.strip()\n",
    "print '*' + a + '*'"
   ]
  },
  {
   "cell_type": "markdown",
   "metadata": {},
   "source": [
    "#### concatenate"
   ]
  },
  {
   "cell_type": "code",
   "execution_count": 7,
   "metadata": {},
   "outputs": [
    {
     "name": "stdout",
     "output_type": "stream",
     "text": [
      "the beauty and the Beast\n"
     ]
    }
   ],
   "source": [
    "s1 = 'the beauty'\n",
    "s2 = ' and the Beast'\n",
    "\n",
    "print ( s1 + s2 )"
   ]
  },
  {
   "cell_type": "markdown",
   "metadata": {},
   "source": [
    "#### concatenate with join"
   ]
  },
  {
   "cell_type": "code",
   "execution_count": 1,
   "metadata": {},
   "outputs": [
    {
     "name": "stdout",
     "output_type": "stream",
     "text": [
      "e*a*g*l*e\n"
     ]
    }
   ],
   "source": [
    "a = '*'.join( 'eagle' )\n",
    "print( a )"
   ]
  },
  {
   "cell_type": "code",
   "execution_count": 5,
   "metadata": {},
   "outputs": [
    {
     "data": {
      "text/plain": [
       "' O  O  O '"
      ]
     },
     "execution_count": 5,
     "metadata": {},
     "output_type": "execute_result"
    }
   ],
   "source": [
    "a = ' O ' * 3\n",
    "a\n"
   ]
  },
  {
   "cell_type": "markdown",
   "metadata": {},
   "source": [
    "#### replace a parameter using parameter name"
   ]
  },
  {
   "cell_type": "code",
   "execution_count": 14,
   "metadata": {},
   "outputs": [
    {
     "name": "stdout",
     "output_type": "stream",
     "text": [
      "good morning ladies and gentleman from: Mars\n"
     ]
    }
   ],
   "source": [
    "s = 'good morning ladies and gentleman from: {planet}'\n",
    "a = 'Mars'\n",
    "\n",
    "print( s.format( planet = a )  )"
   ]
  },
  {
   "cell_type": "code",
   "execution_count": 16,
   "metadata": {},
   "outputs": [
    {
     "name": "stdout",
     "output_type": "stream",
     "text": [
      "good morning ladies and gentleman from: Mars and Venus\n"
     ]
    }
   ],
   "source": [
    "s  = 'good morning ladies and gentleman from: {0} and {1}'\n",
    "p0 = 'Venus'\n",
    "p1 = 'Mars'\n",
    "\n",
    "print( s.format( p0, p1 )  )"
   ]
  },
  {
   "cell_type": "markdown",
   "metadata": {},
   "source": [
    "#### filling string with parameters (using dictionary)"
   ]
  },
  {
   "cell_type": "code",
   "execution_count": 12,
   "metadata": {},
   "outputs": [
    {
     "name": "stdout",
     "output_type": "stream",
     "text": [
      "connection_string: host=myServer  database=adventures  user=user1\n"
     ]
    }
   ],
   "source": [
    "# dictionary with parameters\n",
    "db = {\n",
    "    'host'     : 'myServer',\n",
    "    'database' : 'adventures',\n",
    "    'user'     : 'user1'\n",
    "}\n",
    "\n",
    "# string template\n",
    "t = \"host={db[host]}  database={db[database]}  user={db[user]}\"\n",
    "\n",
    "# fill string with parameter values\n",
    "connection_string = t.format( db = db )\n",
    "\n",
    "# nice output\n",
    "print ( 'connection_string: {}'.format( connection_string ) )\n"
   ]
  },
  {
   "cell_type": "markdown",
   "metadata": {},
   "source": [
    "#### by name"
   ]
  },
  {
   "cell_type": "code",
   "execution_count": 1,
   "metadata": {},
   "outputs": [
    {
     "name": "stdout",
     "output_type": "stream",
     "text": [
      "Your Coordinates: 36.24N, -114.81W\n"
     ]
    },
    {
     "data": {
      "text/plain": [
       "'My coordinates: 37.24N, -115.81W'"
      ]
     },
     "execution_count": 1,
     "metadata": {},
     "output_type": "execute_result"
    }
   ],
   "source": [
    "y = 'Your Coordinates: {latitude}, {longitude}'.format(latitude='36.24N', longitude='-114.81W')\n",
    "print y\n",
    "\n",
    "coord = {\n",
    "        'latitude': '37.24N', \n",
    "        'longitude': '-115.81W'\n",
    "        }\n",
    "\n",
    "'My coordinates: {latitude}, {longitude}'.format(**coord)\n"
   ]
  },
  {
   "cell_type": "code",
   "execution_count": 22,
   "metadata": {},
   "outputs": [
    {
     "name": "stdout",
     "output_type": "stream",
     "text": [
      "5\n"
     ]
    }
   ],
   "source": [
    "print( '{}'.format( 2+3 ) )"
   ]
  },
  {
   "cell_type": "markdown",
   "metadata": {},
   "source": [
    "#### replace a parameter with %"
   ]
  },
  {
   "cell_type": "code",
   "execution_count": 2,
   "metadata": {},
   "outputs": [
    {
     "name": "stdout",
     "output_type": "stream",
     "text": [
      "good morning ladies and gentleman from: Mars\n"
     ]
    }
   ],
   "source": [
    "s = 'good morning ladies and gentleman from: %s'\n",
    "a = 'Mars'\n",
    "\n",
    "print ( s % a )"
   ]
  },
  {
   "cell_type": "markdown",
   "metadata": {},
   "source": [
    "#### Templates"
   ]
  },
  {
   "cell_type": "code",
   "execution_count": 23,
   "metadata": {},
   "outputs": [
    {
     "name": "stdout",
     "output_type": "stream",
     "text": [
      "Kim likes Kung Pao\n"
     ]
    }
   ],
   "source": [
    "from string import Template\n",
    "t = Template('$who likes $what')\n",
    "s = t.substitute(who='Kim', what='Kung Pao')\n",
    "\n",
    "print ( s )\n"
   ]
  },
  {
   "cell_type": "markdown",
   "metadata": {},
   "source": [
    "### replace new line by space."
   ]
  },
  {
   "cell_type": "code",
   "execution_count": 79,
   "metadata": {},
   "outputs": [
    {
     "name": "stdout",
     "output_type": "stream",
     "text": [
      " 17. Try executing a simple query to confirm the table is set up correctly. \n"
     ]
    }
   ],
   "source": [
    "raw_data = \"\"\"\n",
    "17. Try\n",
    "executing\n",
    "a\n",
    "simple\n",
    "query\n",
    "to\n",
    "confirm\n",
    "the\n",
    "table\n",
    "is\n",
    "set\n",
    "up\n",
    "correctly.\n",
    "\"\"\"\n",
    "\n",
    "clean_data = raw_data.replace( '\\n', ' ' )\n",
    "print( clean_data )\n"
   ]
  },
  {
   "cell_type": "markdown",
   "metadata": {},
   "source": [
    "<a id = 'functions'> </a>"
   ]
  },
  {
   "cell_type": "markdown",
   "metadata": {},
   "source": [
    "### type"
   ]
  },
  {
   "cell_type": "code",
   "execution_count": 12,
   "metadata": {},
   "outputs": [
    {
     "name": "stdout",
     "output_type": "stream",
     "text": [
      "<type 'complex'>\n"
     ]
    }
   ],
   "source": [
    "print ( type( 1J ) )"
   ]
  },
  {
   "cell_type": "code",
   "execution_count": 13,
   "metadata": {},
   "outputs": [
    {
     "name": "stdout",
     "output_type": "stream",
     "text": [
      "6\n"
     ]
    }
   ],
   "source": [
    "a = [1,2,3,None,(),[],]\n",
    "print len(a)"
   ]
  },
  {
   "cell_type": "markdown",
   "metadata": {},
   "source": [
    "### functions"
   ]
  },
  {
   "cell_type": "markdown",
   "metadata": {},
   "source": [
    "optional parameters"
   ]
  },
  {
   "cell_type": "code",
   "execution_count": 5,
   "metadata": {},
   "outputs": [
    {
     "name": "stdout",
     "output_type": "stream",
     "text": [
      "hello\n",
      "how are you,  my friend?\n",
      "is too late.  good bye\n"
     ]
    }
   ],
   "source": [
    "def f1( required_param  ):\n",
    "    print( required_param )\n",
    "    \n",
    "def f2(  required_param ,  optional_param  = 'good bye' ):\n",
    "    print( \"{} {}\".format( required_param, optional_param ) )\n",
    "    \n",
    "f1( 'hello' )\n",
    "f2( 'how are you,', ' my friend?' )\n",
    "f2( 'is too late. ' )"
   ]
  },
  {
   "cell_type": "markdown",
   "metadata": {},
   "source": [
    "how to write procedural code (with main function)"
   ]
  },
  {
   "cell_type": "markdown",
   "metadata": {},
   "source": [
    "how to create a class"
   ]
  },
  {
   "cell_type": "markdown",
   "metadata": {},
   "source": [
    "how to write static methods"
   ]
  },
  {
   "cell_type": "markdown",
   "metadata": {
    "collapsed": true
   },
   "source": [
    "how to write a long instruction in many lines of code"
   ]
  },
  {
   "cell_type": "markdown",
   "metadata": {},
   "source": [
    "<a id = 'arguments'> </a>"
   ]
  },
  {
   "cell_type": "markdown",
   "metadata": {
    "collapsed": true
   },
   "source": [
    "### arguments"
   ]
  },
  {
   "cell_type": "markdown",
   "metadata": {},
   "source": [
    "#### how to parse arguments"
   ]
  },
  {
   "cell_type": "code",
   "execution_count": null,
   "metadata": {
    "collapsed": true
   },
   "outputs": [],
   "source": [
    "import argparse\n",
    "\n",
    "def getCommanLineArgs( self ):\n",
    "    try:\n",
    "        # create parser\n",
    "        parser = argparse.ArgumentParser()\n",
    "\n",
    "        # set arguments\n",
    "        parser.add_argument( '-h', '--help'     )\n",
    "        parser.add_argument( '-i', '--iniFile'    )\n",
    "        parser.add_argument( '-p', '--picture'     )\n",
    "        parser.add_argument( '-a', '--algorithm')\n",
    "            \n",
    "        # parse arguments\n",
    "        args = parser.parse_args()\n",
    "        \n",
    "        # print what we have\n",
    "        print 'arguments: '.format( args )     \n",
    "        print 'ini file : ', args.iniFile\n",
    "        print 'picture  : ', args.picture\n",
    "        print 'algorihm : ', args.algorithm\n",
    "\n",
    "# use like this            \n",
    "if __name__ == '__main__':\n",
    "    args = self.getCommanLineArgs()\n",
    "        "
   ]
  },
  {
   "cell_type": "markdown",
   "metadata": {},
   "source": [
    "### Config file"
   ]
  },
  {
   "cell_type": "markdown",
   "metadata": {},
   "source": [
    "#### sample config.ini"
   ]
  },
  {
   "cell_type": "code",
   "execution_count": null,
   "metadata": {
    "collapsed": true
   },
   "outputs": [],
   "source": [
    "[my_section]\n",
    "my_attribute=my_value_001\n",
    "\n",
    "[country]\n",
    "etnicity=hispanic\n",
    "currency=pesos"
   ]
  },
  {
   "cell_type": "markdown",
   "metadata": {},
   "source": [
    "#### load config file"
   ]
  },
  {
   "cell_type": "code",
   "execution_count": null,
   "metadata": {
    "collapsed": true
   },
   "outputs": [],
   "source": [
    "import ConfigParser\n",
    "\n",
    "config = ConfigParser.RawConfigParser()\n",
    "config.read( 'my_config.ini' )\n"
   ]
  },
  {
   "cell_type": "markdown",
   "metadata": {},
   "source": [
    "#### read config parameter"
   ]
  },
  {
   "cell_type": "code",
   "execution_count": null,
   "metadata": {
    "collapsed": true
   },
   "outputs": [],
   "source": [
    "x    = config.get( 'my_section', 'my_attribute' )\n",
    "race = config.get( 'contry'    , 'etnicity'     )"
   ]
  },
  {
   "cell_type": "code",
   "execution_count": null,
   "metadata": {
    "collapsed": true
   },
   "outputs": [],
   "source": []
  },
  {
   "cell_type": "code",
   "execution_count": null,
   "metadata": {
    "collapsed": true
   },
   "outputs": [],
   "source": []
  },
  {
   "cell_type": "markdown",
   "metadata": {},
   "source": [
    "how to create a class, attributes, methods, constructor, main"
   ]
  },
  {
   "cell_type": "markdown",
   "metadata": {},
   "source": [
    "<a id = 'map'> </a>"
   ]
  },
  {
   "cell_type": "markdown",
   "metadata": {},
   "source": [
    "## references"
   ]
  },
  {
   "cell_type": "markdown",
   "metadata": {},
   "source": [
    "* https://docs.python.org/2/tutorial/\n",
    "* https://regexone.com/\n",
    "* https://regexone.com/references/python"
   ]
  }
 ],
 "metadata": {
  "kernelspec": {
   "display_name": "Python 3",
   "language": "python",
   "name": "python3"
  },
  "language_info": {
   "codemirror_mode": {
    "name": "ipython",
    "version": 3
   },
   "file_extension": ".py",
   "mimetype": "text/x-python",
   "name": "python",
   "nbconvert_exporter": "python",
   "pygments_lexer": "ipython3",
   "version": "3.6.1"
  }
 },
 "nbformat": 4,
 "nbformat_minor": 1
}
