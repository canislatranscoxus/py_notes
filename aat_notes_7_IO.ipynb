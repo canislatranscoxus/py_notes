{
 "cells": [
  {
   "cell_type": "markdown",
   "metadata": {},
   "source": [
    "# Python notes 3 - regex\n"
   ]
  },
  {
   "cell_type": "markdown",
   "metadata": {},
   "source": [
    "this document is a kind of cook notebook with receipts to help you code faster.\n",
    "enjoy it \n",
    ":)"
   ]
  },
  {
   "cell_type": "markdown",
   "metadata": {},
   "source": [
    "## Table of Content\n",
    "\n",
    "\n",
    "* [read text file](#read_txt)\n",
    "\n"
   ]
  },
  {
   "cell_type": "markdown",
   "metadata": {},
   "source": [
    "<a id = 'read_txt' ></a>"
   ]
  },
  {
   "cell_type": "markdown",
   "metadata": {},
   "source": [
    "## read text file"
   ]
  },
  {
   "cell_type": "markdown",
   "metadata": {},
   "source": [
    "#### read lines by line"
   ]
  },
  {
   "cell_type": "code",
   "execution_count": 1,
   "metadata": {},
   "outputs": [
    {
     "name": "stdout",
     "output_type": "stream",
     "text": [
      "Line 1: I kept the right ones out\n",
      "Line 2: And let the wrong ones in\n",
      "Line 3: Had an angel of mercy to see me through all my sins\n",
      "Line 4: There were times in my life\n",
      "Line 5: When I was goin' insane\n",
      "Line 6: Tryin' to walk through\n",
      "Line 7: The pain\n",
      "Line 8: When I lost my grip\n",
      "Line 9: And I hit the floor\n",
      "Line 10: Yeah, I thought I could leave, but couldn't get out the door\n",
      "Line 11: I was so sick and tired\n",
      "Line 12: Of livin' a lie\n",
      "Line 13: I was wishin' that I would die\n",
      "Line 14: It's amazing\n",
      "Line 15: With the blink of an eye, you finally see the light\n",
      "Line 16: It's amazing\n",
      "Line 17: When the moment arrives that you know you'll be alright\n",
      "Line 18: It's amazing\n",
      "Line 19: And I'm sayin' a prayer for the desperate hearts tonight\n",
      "Line 20: That one last shot's permanent vacation\n",
      "Line 21: And how high can you fly with broken wings?\n",
      "Line 22: Life's a journey, not a destination\n",
      "Line 23: And I just can't tell just what tomorrow brings\n",
      "Line 24: You have to learn to crawl\n",
      "Line 25: Before you learn to walk\n",
      "Line 26: But I just couldn't listen to all that righteous talk, oh yeah\n",
      "Line 27: I was out on the street,\n",
      "Line 28: Just a tryin' to survive\n",
      "Line 29: Scratchin' to stay alive\n",
      "Line 30: It's amazing\n",
      "Line 31: With the blink of an eye, you finally see the light\n",
      "Line 32: It's amazing\n",
      "Line 33: When the moment arrives that you know you'll be alright\n",
      "Line 34: Oh, it's amazing\n",
      "Line 35: And I'm sayin' a prayer for the desperate hearts tonight\n",
      "Line 36: Desperate hearts, desperate hearts\n"
     ]
    }
   ],
   "source": [
    "filepath = 'C:/aat/data/amazing.txt'  \n",
    "with open(filepath) as fp:  \n",
    "   line = fp.readline()\n",
    "   cnt = 1\n",
    "   while line:\n",
    "       print(\"Line {}: {}\".format(cnt, line.strip()))\n",
    "       line = fp.readline()\n",
    "       cnt += 1"
   ]
  },
  {
   "cell_type": "code",
   "execution_count": 5,
   "metadata": {},
   "outputs": [
    {
     "name": "stdout",
     "output_type": "stream",
     "text": [
      "we found it\n"
     ]
    }
   ],
   "source": [
    "if 'amazing' in 'this life is amazing':\n",
    "    print( 'we found it' )\n",
    "else:\n",
    "    print( 'not found' )"
   ]
  },
  {
   "cell_type": "markdown",
   "metadata": {},
   "source": [
    "### read file line by line and print only lines that contains a substring"
   ]
  },
  {
   "cell_type": "code",
   "execution_count": 9,
   "metadata": {},
   "outputs": [
    {
     "name": "stdout",
     "output_type": "stream",
     "text": [
      "Line 14: It's amazing\n",
      "Line 16: It's amazing\n",
      "Line 18: It's amazing\n",
      "Line 30: It's amazing\n",
      "Line 32: It's amazing\n",
      "Line 34: Oh, it's amazing\n"
     ]
    }
   ],
   "source": [
    "filepath = 'C:/aat/data/amazing.txt'  \n",
    "with open(filepath) as fp:\n",
    "    line = fp.readline()\n",
    "    cnt = 1\n",
    "    while line:\n",
    "        if 'amazing' in line.lower():\n",
    "            print(\"Line {}: {}\".format(cnt, line.strip()))\n",
    "        \n",
    "        line = fp.readline()\n",
    "        cnt += 1"
   ]
  },
  {
   "cell_type": "markdown",
   "metadata": {},
   "source": [
    "### references"
   ]
  },
  {
   "cell_type": "markdown",
   "metadata": {},
   "source": []
  }
 ],
 "metadata": {
  "kernelspec": {
   "display_name": "Python 3",
   "language": "python",
   "name": "python3"
  },
  "language_info": {
   "codemirror_mode": {
    "name": "ipython",
    "version": 3
   },
   "file_extension": ".py",
   "mimetype": "text/x-python",
   "name": "python",
   "nbconvert_exporter": "python",
   "pygments_lexer": "ipython3",
   "version": "3.6.1"
  }
 },
 "nbformat": 4,
 "nbformat_minor": 1
}
